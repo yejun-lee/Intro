{
 "cells": [
  {
   "cell_type": "markdown",
   "metadata": {},
   "source": [
    "## 02장 연습문제"
   ]
  },
  {
   "cell_type": "markdown",
   "metadata": {},
   "source": [
    "#### Q1. 홍길동 씨의 과목별 점수는 다음과 같다. 홍길동 씨의 평균 점수를 구해 보자."
   ]
  },
  {
   "cell_type": "markdown",
   "metadata": {},
   "source": [
    "**국어 : 80\n",
    "영어 : 75\n",
    "수학 : 55**"
   ]
  },
  {
   "cell_type": "code",
   "execution_count": null,
   "metadata": {},
   "outputs": [],
   "source": [
    "score = [80, 75, 55]\n",
    "\n",
    "avg = sum(score) / len(score)\n",
    "\n",
    "print(avg)"
   ]
  },
  {
   "cell_type": "markdown",
   "metadata": {},
   "source": [
    "#### Q2. 자연수 13이 홀수인지 짝수인지 판별할 수 있는 방법에 대해 말해 보자."
   ]
  },
  {
   "cell_type": "code",
   "execution_count": null,
   "metadata": {},
   "outputs": [],
   "source": [
    "num = 13\n",
    "\n",
    "if num % 2 == 0:\n",
    "    print('짝수입니다.')\n",
    "else:\n",
    "    print('홀수입니다.')"
   ]
  },
  {
   "cell_type": "markdown",
   "metadata": {},
   "source": [
    "#### Q3. 홍길동 씨의 주민등록번호는 881120-1068234이다. 홍길동 씨의 주민등록번호를 \n",
    "#### 연월일(YYYYMMDD) 부분과 그 뒤의 숫자 부분으로 나누어 출력해 보자."
   ]
  },
  {
   "cell_type": "code",
   "execution_count": null,
   "metadata": {},
   "outputs": [],
   "source": [
    "resi_num = '881120-1068234'\n",
    "\n",
    "print(resi_num.split('-'))"
   ]
  },
  {
   "cell_type": "markdown",
   "metadata": {},
   "source": [
    "#### Q4. 주민등록번호 뒷자리의 맨 첫 번째 숫자는 성별을 나타낸다. \n",
    "#### 주민등록번호에서 성별을 나타내는 숫자를 출력해 보자.\n",
    "```python\n",
    "pin = \"881120-1068234\"\n",
    "```\n",
    "> 문자열 인덱싱을 사용해 보자."
   ]
  },
  {
   "cell_type": "code",
   "execution_count": null,
   "metadata": {},
   "outputs": [],
   "source": [
    "pin = '881120-1068234'\n",
    "\n",
    "print(pin[7])"
   ]
  },
  {
   "cell_type": "markdown",
   "metadata": {},
   "source": [
    "#### Q5. 다음과 같은 문자열 a:b:c:d가 있다. 문자열의 replace 함수를 사용하여 a#b#c#d로 바꿔서 출력해 보자.\n",
    "```python\n",
    "a = \"a:b:c:d\"\n",
    "```"
   ]
  },
  {
   "cell_type": "code",
   "execution_count": null,
   "metadata": {},
   "outputs": [],
   "source": [
    "a = \"a:b:c:d\"\n",
    "a.replace(':', '#')"
   ]
  },
  {
   "cell_type": "markdown",
   "metadata": {},
   "source": [
    "#### Q6. [1, 3, 5, 4, 2] 리스트를 [5, 4, 3, 2, 1]로 만들어 보자.\n",
    "> 리스트의 내장 함수를 사용해 보자."
   ]
  },
  {
   "cell_type": "code",
   "execution_count": null,
   "metadata": {},
   "outputs": [],
   "source": [
    "a_list = [1, 3, 5, 4, 2]\n",
    "\n",
    "a_list.sort(reverse=True)\n",
    "print(a_list)"
   ]
  },
  {
   "cell_type": "markdown",
   "metadata": {},
   "source": [
    "#### Q7. ['Life', 'is', 'too', 'short'] 리스트를 Life is too short 문자열로 만들어 출력해 보자.\n",
    "> 문자열의 join 함수를 사용하면 리스트를 문자열로 쉽게 만들 수 있다."
   ]
  },
  {
   "cell_type": "code",
   "execution_count": null,
   "metadata": {},
   "outputs": [],
   "source": [
    "str_list = ['life', 'is', 'too', 'short']\n",
    "\n",
    "str1_list = ' '.join(str_list)\n",
    "print(str1_list)"
   ]
  },
  {
   "cell_type": "markdown",
   "metadata": {},
   "source": [
    "#### Q8. (1,2,3) 튜플에 값 4를 추가하여 (1,2,3,4)를 만들어 출력해 보자.\n",
    "> 더하기(+)를 사용해 보자."
   ]
  },
  {
   "cell_type": "code",
   "execution_count": null,
   "metadata": {},
   "outputs": [],
   "source": [
    "A = (1, 2, 3)\n",
    "B = (4, )\n",
    "C = A + B\n",
    "\n",
    "print(C)"
   ]
  },
  {
   "cell_type": "markdown",
   "metadata": {},
   "source": [
    "#### Q9. 다음과 같은 딕셔너리 a가 있다.\n",
    "```python\n",
    "a = dict()\n",
    "a\n",
    "{}\n",
    "```\n",
    "다음 중 오류가 발생하는 경우를 고르고, 그 이유를 설명해보자\n",
    "```python\n",
    "1. a['name'] = 'python'\n",
    "2. a[('a',)] = 'python'\n",
    "3. a[[1]] = 'python'\n",
    "4. a[250] = 'python'\n",
    "```"
   ]
  },
  {
   "cell_type": "markdown",
   "metadata": {},
   "source": [
    "1. **정상**\n",
    "\n",
    "2. **정상**\n",
    "\n",
    "3. **오류** : dictionary의 key로는 변하는 값을 사용할 수 없기 때문이다.\n",
    "\n",
    "4. **정상**\n"
   ]
  },
  {
   "cell_type": "code",
   "execution_count": null,
   "metadata": {},
   "outputs": [],
   "source": [
    "a = {}\n",
    "\n",
    "try:\n",
    "    a['name'] = 'python'\n",
    "    print(a)\n",
    "    a[('a',)] = 'python'\n",
    "    print(a)\n",
    "    a[[1]] = 'python'\n",
    "    print(a)\n",
    "    a[250] = 'python'\n",
    "    print(a)\n",
    "except:\n",
    "    print('오류 발생')\n",
    "    a[250] = 'python'\n",
    "    print(a)"
   ]
  },
  {
   "cell_type": "markdown",
   "metadata": {},
   "source": [
    "#### Q10. 딕셔너리 a에서 'B'에 해당되는 값을 추출해 보자.\n",
    "```python\n",
    "a = {'A':90, 'B':80, 'C':70}\n",
    "```\n",
    "> 딕셔너리의 pop 함수를 사용해 보자."
   ]
  },
  {
   "cell_type": "code",
   "execution_count": null,
   "metadata": {},
   "outputs": [],
   "source": [
    "a = {'A':90, 'B':80, 'C':70}\n",
    "\n",
    "b = a.pop('B')\n",
    "print(b)\n",
    "print(a)"
   ]
  },
  {
   "cell_type": "markdown",
   "metadata": {},
   "source": [
    "#### Q11. a 리스트에서 중복 숫자를 제거해 보자.\n",
    "```python\n",
    "a = [1, 1, 1, 2, 2, 3, 3, 3, 4, 4, 5]\n",
    "```\n",
    "> 집합 자료형의 요솟값이 중복될 수 없다는 특징을 사용해 보자."
   ]
  },
  {
   "cell_type": "code",
   "execution_count": null,
   "metadata": {},
   "outputs": [],
   "source": [
    "a = [1, 1, 1, 2, 2, 3, 3, 3, 4, 4, 5]\n",
    "b = set(a)\n",
    "a = list(b)\n",
    "\n",
    "print(a)"
   ]
  },
  {
   "cell_type": "markdown",
   "metadata": {},
   "source": [
    "#### Q12. 파이썬은 다음처럼 동일한 값에 여러 개의 변수를 선언할 수 있다. 다음과 같이 a, b 변수를 선언한 후 \n",
    "#### a의 두 번째 요솟값을 변경하면 b 값은 어떻게 될까? 그리고 이런 결과가 오는 이유에 대해 설명해 보자.\n",
    "\n",
    "```python\n",
    "a = b = [1, 2, 3]\n",
    "a[1] = 4\n",
    "print(b)\n",
    "```"
   ]
  },
  {
   "cell_type": "code",
   "execution_count": null,
   "metadata": {},
   "outputs": [],
   "source": [
    "a = b = [1, 2, 3]  # 이런식으로 호출하면 변수는 다르지만 같은 리스트(주소)를 가리키게된다.\n",
    "a[1] = 4\n",
    "print(b)\n",
    "print(id(a), id(b))\n",
    "\n",
    "## a 값을 가져오면서 다른 주소를 가리키게 하고 싶을 때\n",
    "c = [1, 2, 3]\n",
    "d = c[:]\n",
    "print(c)\n",
    "print(d)\n",
    "print(id(c), id(d))"
   ]
  },
  {
   "cell_type": "markdown",
   "metadata": {},
   "source": [
    "---"
   ]
  },
  {
   "cell_type": "markdown",
   "metadata": {},
   "source": [
    "## 03장 연습문제"
   ]
  },
  {
   "cell_type": "markdown",
   "metadata": {},
   "source": [
    "#### Q1. 다음 코드의 결괏값은 무엇일까?\n",
    "```python\n",
    "a = \"Life is too short, you need python\"\n",
    "\n",
    "if \"wife\" in a: \n",
    "    print(\"wife\")\n",
    "    \n",
    "elif \"python\" in a and \"you\" not in a: \n",
    "    print(\"python\")\n",
    "elif \"shirt\" not in a: \n",
    "    print(\"shirt\")\n",
    "elif \"need\" in a: \n",
    "    print(\"need\")\n",
    "    \n",
    "else: \n",
    "    print(\"none\")\n",
    "```"
   ]
  },
  {
   "cell_type": "code",
   "execution_count": null,
   "metadata": {},
   "outputs": [],
   "source": [
    "a = \"Life is too short, you need python\"\n",
    "\n",
    "if \"wife\" in a: \n",
    "    print(\"wife\")\n",
    "\n",
    "elif \"python\" in a and \"you\" not in a: \n",
    "    print(\"python\")\n",
    "elif \"shirt\" not in a: \n",
    "    print(\"shirt\")\n",
    "elif \"need\" in a: \n",
    "    print(\"need\")\n",
    "\n",
    "else: \n",
    "    print(\"none\")"
   ]
  },
  {
   "cell_type": "markdown",
   "metadata": {},
   "source": [
    "#### Q2. while문을 사용해 1부터 1000까지의 자연수 중 3의 배수의 합을 구해 보자."
   ]
  },
  {
   "cell_type": "code",
   "execution_count": null,
   "metadata": {},
   "outputs": [],
   "source": [
    "num = 1\n",
    "sum = 0\n",
    "\n",
    "while num <= 1000:\n",
    "    if num % 3 == 0:\n",
    "        print(num, end=' ')\n",
    "        sum += num\n",
    "    \n",
    "    num += 1\n",
    "\n",
    "print('\\nthe answer is :', sum)"
   ]
  },
  {
   "cell_type": "markdown",
   "metadata": {},
   "source": [
    "#### Q3. while문을 사용하여 다음과 같이 별(*)을 표시하는 프로그램을 작성해 보자.\n",
    "```python\n",
    "*\n",
    "**\n",
    "***\n",
    "****\n",
    "*****\n",
    "```"
   ]
  },
  {
   "cell_type": "code",
   "execution_count": null,
   "metadata": {},
   "outputs": [],
   "source": [
    "num = 1\n",
    "\n",
    "while num <= 5:\n",
    "    print('*'*num)\n",
    "    num += 1"
   ]
  },
  {
   "cell_type": "markdown",
   "metadata": {},
   "source": [
    "#### Q4. for문을 사용해 1부터 100까지의 숫자를 출력해 보자."
   ]
  },
  {
   "cell_type": "code",
   "execution_count": null,
   "metadata": {},
   "outputs": [],
   "source": [
    "for i in range(1,101):\n",
    "    print(i, end=' ')"
   ]
  },
  {
   "cell_type": "markdown",
   "metadata": {},
   "source": [
    "#### Q5. A 학급에 총 10명의 학생이 있다. 이 학생들의 중간고사 점수는 다음과 같다.\n",
    "\n",
    "[70, 60, 55, 75, 95, 90, 80, 80, 85, 100]\n",
    "\n",
    "#### for문을 사용하여 A 학급의 평균 점수를 구해 보자.\n",
    "\n"
   ]
  },
  {
   "cell_type": "code",
   "execution_count": null,
   "metadata": {},
   "outputs": [],
   "source": [
    "Student_score = [70, 60, 55, 75, 95, 90, 80, 80, 85, 100]\n",
    "sum = 0\n",
    "\n",
    "for i in Student_score:\n",
    "    sum += i\n",
    "\n",
    "print(sum/len(Student_score))"
   ]
  },
  {
   "cell_type": "markdown",
   "metadata": {},
   "source": [
    "#### Q6. 리스트 중에서 홀수에만 2를 곱하여 저장하는 다음 코드가 있다.\n",
    "```python\n",
    "numbers = [1, 2, 3, 4, 5]\n",
    "result = []\n",
    "for n in numbers:\n",
    "    if n % 2 == 1:\n",
    "        result.append(n*2)\n",
    "```\n",
    "#### 위 코드를 리스트 내포(list comprehension)를 사용하여 표현해 보자\n",
    "$\n",
    "$\n",
    "#### 리스트 내포의 일반 문법 \n",
    "```python\n",
    "x * y for i in range(b) if x % 3 == 0\n",
    "```\n",
    "#### 주의 사항 : 콜론을 사용하지 않는다."
   ]
  },
  {
   "cell_type": "code",
   "execution_count": null,
   "metadata": {},
   "outputs": [],
   "source": [
    "numbers = [1, 2, 3, 4, 5]\n",
    "results = [i*2 for i in numbers if i % 2 == 1]\n",
    "\n",
    "print(results)"
   ]
  },
  {
   "cell_type": "markdown",
   "metadata": {},
   "source": [
    "---"
   ]
  },
  {
   "cell_type": "markdown",
   "metadata": {},
   "source": [
    "## 04장 내용"
   ]
  },
  {
   "cell_type": "code",
   "execution_count": null,
   "metadata": {},
   "outputs": [],
   "source": [
    "f = open('C:/Users/user/Jump To Python/test1.txt', 'w')\n",
    "for i in range(1, 11):\n",
    "    data = '%d번째 줄입니다.\\n'%i\n",
    "    f.write(data)\n",
    "f.close()"
   ]
  },
  {
   "cell_type": "code",
   "execution_count": null,
   "metadata": {},
   "outputs": [],
   "source": [
    "f = open('C:/Users/user/Jump To Python/test1.txt', 'r')\n",
    "\n",
    "# while 1:\n",
    "#     line = f.readline()\n",
    "#     if not line: break\n",
    "#     print(line)\n",
    "\n",
    "data = f.read()\n",
    "print(data)\n",
    "\n",
    "# lines = f.readlines()\n",
    "# for line in lines:\n",
    "#     print(line)\n",
    "\n",
    "f.close()"
   ]
  },
  {
   "cell_type": "markdown",
   "metadata": {},
   "source": [
    "---"
   ]
  },
  {
   "cell_type": "code",
   "execution_count": null,
   "metadata": {},
   "outputs": [],
   "source": [
    "file = open('C:/Users/user/Jump To Python/Test.txt', 'w')\n",
    "\n",
    "while 1:\n",
    "    info = input('정보를 입력하세요 : ')\n",
    "    file.write(info+'\\n')\n",
    "    if not info: break\n",
    "\n",
    "file.close()\n",
    "\n",
    "file = open('C:/Users/user/Jump To Python/Test.txt', 'r')\n",
    "\n",
    "data = file.read()\n",
    "print(data)\n",
    "\n",
    "file.close()"
   ]
  },
  {
   "cell_type": "code",
   "execution_count": null,
   "metadata": {},
   "outputs": [],
   "source": [
    "file = open('C:/Users/user/Jump To Python/Test.txt', 'a')\n",
    "\n",
    "while 1:\n",
    "    info = input('내용을 추가하세요 : ')\n",
    "    if not info: break\n",
    "    file.write(info+'\\n')\n",
    "\n",
    "file.close()\n",
    "\n",
    "file = open('C:/Users/user/Jump To Python/Test.txt', 'r')\n",
    "line = file.read()\n",
    "print(line)\n",
    "\n",
    "file.close()"
   ]
  },
  {
   "cell_type": "code",
   "execution_count": null,
   "metadata": {},
   "outputs": [],
   "source": [
    "with open('C:/Users/user/Jump To Python/Test.txt', 'w') as file:\n",
    "    while 1:\n",
    "        line = input('입력 : ')\n",
    "        if not line: break\n",
    "        file.write(' '+line)\n",
    "\n",
    "with open('C:/Users/user/Jump To Python/Test.txt', 'r') as file:\n",
    "    result = file.read()\n",
    "    print(result)"
   ]
  },
  {
   "cell_type": "markdown",
   "metadata": {},
   "source": [
    "## 04장 연습문제"
   ]
  },
  {
   "cell_type": "markdown",
   "metadata": {},
   "source": [
    "#### Q1. 주어진 자연수가 홀수인지 짝수인지 판별해 주는 함수(is_odd)를 작성해 보자."
   ]
  },
  {
   "cell_type": "code",
   "execution_count": null,
   "metadata": {},
   "outputs": [],
   "source": [
    "def is_odd(num):\n",
    "    if num % 2 == 0: print('짝수')\n",
    "    else: print('홀수')\n",
    "        \n",
    "is_odd(1)\n",
    "is_odd(124)\n",
    "is_odd(555)\n",
    "is_odd(0)"
   ]
  },
  {
   "cell_type": "code",
   "execution_count": null,
   "metadata": {},
   "outputs": [],
   "source": [
    "## 람다 함수를 이용한 풀이\n",
    "\n",
    "is_odd = lambda x : True if x % 2 == 1 else False\n",
    "\n",
    "print(is_odd(3))\n",
    "print(is_odd(24))"
   ]
  },
  {
   "cell_type": "markdown",
   "metadata": {},
   "source": [
    "#### Q2. 입력으로 들어오는 모든 수의 평균 값을 계산해 주는 함수를 작성해 보자. \n",
    "#### (단 입력으로 들어오는 수의 개수는 정해져 있지 않다.)\n",
    "> 평균 값을 구할 때 len 함수를 사용해 보자."
   ]
  },
  {
   "cell_type": "code",
   "execution_count": null,
   "metadata": {},
   "outputs": [],
   "source": [
    "def average(*args):\n",
    "    sum1 = sum(args)\n",
    "    return sum1/len(args)\n",
    "\n",
    "ans = average(1, 3, 5, 6, 10)\n",
    "print(ans)"
   ]
  },
  {
   "cell_type": "markdown",
   "metadata": {},
   "source": [
    "#### Q3. 다음은 두 개의 숫자를 입력받아 더하여 돌려주는 프로그램이다.\n",
    "```python\n",
    "input1 = input(\"첫번째 숫자를 입력하세요:\")\n",
    "input2 = input(\"두번째 숫자를 입력하세요:\")\n",
    "\n",
    "total = input1 + input2\n",
    "print(\"두 수의 합은 %s 입니다\" % total)\n",
    "```\n",
    "이 프로그램을 수행해 보자.\n",
    "```\n",
    "첫번째 숫자를 입력하세요:3\n",
    "두번째 숫자를 입력하세요:6\n",
    "두 수의 합은 36 입니다\n",
    "```\n",
    "3과 6을 입력했을 때 9가 아닌 36이라는 결괏값을 돌려주었다. 이 프로그램의 오류를 수정해 보자.\n",
    "> int 함수를 사용해 보자."
   ]
  },
  {
   "cell_type": "code",
   "execution_count": null,
   "metadata": {},
   "outputs": [],
   "source": [
    "input1 = int(input(\"첫번째 숫자를 입력하세요:\"))\n",
    "input2 = int(input(\"두번째 숫자를 입력하세요:\"))\n",
    "\n",
    "total = input1 + input2\n",
    "print(\"두 수의 합은 %s 입니다\" % total)"
   ]
  },
  {
   "cell_type": "markdown",
   "metadata": {},
   "source": [
    "#### Q4. 다음 중 출력 결과가 다른 것 한 개를 골라 보자.\n",
    "```\n",
    "1. print(\"you\" \"need\" \"python\")\n",
    "2. print(\"you\"+\"need\"+\"python\")\n",
    "3. print(\"you\", \"need\", \"python\")\n",
    "4. print(\"\".join([\"you\", \"need\", \"python\"]))\n",
    "```"
   ]
  },
  {
   "cell_type": "markdown",
   "metadata": {},
   "source": [
    "```python\n",
    "\",\".join(['a', 'b', 'c', 'd'])\n",
    "```\n",
    "```\n",
    "'a,b,c,d'\n",
    "```"
   ]
  },
  {
   "cell_type": "code",
   "execution_count": null,
   "metadata": {},
   "outputs": [],
   "source": [
    "print(\"you\" \"need\" \"python\")\n",
    "print(\"you\"+\"need\"+\"python\")\n",
    "print(\"you\", \"need\", \"python\")\n",
    "print(\"\".join([\"you\", \"need\", \"python\"]))"
   ]
  },
  {
   "cell_type": "markdown",
   "metadata": {},
   "source": [
    "#### Q5. 다음은 \"test.txt\"라는 파일에 \"Life is too short\" 문자열을 저장한 후 다시 그 파일을  읽어서\n",
    "#### 출력하는 프로그램이다.\n",
    "```python\n",
    "f1 = open(\"test.txt\", 'w')\n",
    "f1.write(\"Life is too short\")\n",
    "\n",
    "f2 = open(\"test.txt\", 'r')\n",
    "print(f2.read())\n",
    "```\n",
    "이 프로그램은 우리가 예상한 \"Life is too short\"라는 문장을 출력하지 않는다. 우리가 예상한 값을 출력할 수 있도록 프로그램을 수정해 보자."
   ]
  },
  {
   "cell_type": "markdown",
   "metadata": {},
   "source": [
    "- 경로가 설정되어있지 않음\n",
    "- 파일을 따로 닫아주지 않았음"
   ]
  },
  {
   "cell_type": "code",
   "execution_count": null,
   "metadata": {},
   "outputs": [],
   "source": [
    "# f1 = open(\"C:/Users/user/test.txt\", 'w')\n",
    "# f1.write(\"Life is too short\")\n",
    "\n",
    "# f2 = open(\"C:/Users/user/test.txt\", 'r')\n",
    "# print(f2.read())\n",
    "\n",
    "with open(\"C:/Users/user/test.txt\", 'w') as file:\n",
    "    file.write(\"Life is too short\")\n",
    "\n",
    "with open(\"C:/Users/user/test.txt\", 'r') as file:\n",
    "    print(file.read())"
   ]
  },
  {
   "cell_type": "markdown",
   "metadata": {},
   "source": [
    "#### Q6. 사용자의 입력을 파일(test.txt)에 저장하는 프로그램을 작성해 보자. \n",
    "#### (단 프로그램을 다시 실행하더라도 기존에 작성한 내용을 유지하고 새로 입력한 내용을 추가해야 한다.)"
   ]
  },
  {
   "cell_type": "code",
   "execution_count": null,
   "metadata": {},
   "outputs": [],
   "source": [
    "with open('C:/Users/user/test1.txt', 'a') as file_ex:\n",
    "    while 1:\n",
    "        line = input('입력 : ')\n",
    "        if not line: break\n",
    "        file_ex.write(line)\n",
    "        \n",
    "with open('C:/Users/user/test1.txt', 'r') as file_ex:\n",
    "    print(file_ex.read())"
   ]
  },
  {
   "cell_type": "markdown",
   "metadata": {},
   "source": [
    "#### Q7. 다음과 같은 내용을 지닌 파일 test.txt가 있다. 이 파일의 내용 중 \"java\"라는 \n",
    "#### 문자열을 \"python\"으로 바꾸어서 저장해 보자.\n",
    "```\n",
    "Life is too short\n",
    "you need java\n",
    "```\n",
    "> replace 함수를 사용해 보자."
   ]
  },
  {
   "cell_type": "code",
   "execution_count": null,
   "metadata": {},
   "outputs": [],
   "source": [
    "with open('C:/Users/user/test_1.txt', 'w') as file_1:\n",
    "    file_1.write('''Life is too short\n",
    "you need java''')\n",
    "\n",
    "with open('C:/Users/user/test_1.txt', 'r') as file_1:\n",
    "    before = file_1.read()\n",
    "    print('변경 전 : ', before)\n",
    "    line = before.split(' ')\n",
    "\n",
    "line[-1] = 'python'\n",
    "result = ' '.join(line)\n",
    "\n",
    "with open('C:/Users/user/test_1.txt', 'w') as file_1:\n",
    "    file_1.write(result)\n",
    "    \n",
    "with open('C:/Users/user/test_1.txt', 'r') as file_1:\n",
    "    print('변경 후 : ', file_1.read())"
   ]
  },
  {
   "cell_type": "code",
   "execution_count": null,
   "metadata": {},
   "outputs": [],
   "source": [
    "### 간단하게\n",
    "with open('C:/Users/user/test_1.txt', 'w') as file_1:\n",
    "    file_1.write('Life is too short\\nyou need java')\n",
    "\n",
    "with open('C:/Users/user/test_1.txt', 'r') as file_1:\n",
    "    line = file_1.read()\n",
    "    line = line.replace('java', 'python')\n",
    "\n",
    "print(line)\n",
    "    \n",
    "with open('C:/Users/user/test_1.txt', 'w') as file_1:\n",
    "    file_1.write(line)"
   ]
  },
  {
   "cell_type": "markdown",
   "metadata": {},
   "source": [
    "---"
   ]
  },
  {
   "cell_type": "markdown",
   "metadata": {},
   "source": [
    "## 05장 내용"
   ]
  },
  {
   "cell_type": "markdown",
   "metadata": {},
   "source": [
    "### 클래스와 메소드 (class and method)"
   ]
  },
  {
   "cell_type": "markdown",
   "metadata": {},
   "source": [
    "#### a = Cookie()\n",
    "\n",
    "- \"a는 인스턴스\"보다는 \"a는 객체\"라는 표현이 어울리며 \"a는 Cookie의 객체\"보다는 \"a는 Cookie의 인스턴스\"라는 표현이 훨씬 잘 어울린다."
   ]
  },
  {
   "cell_type": "markdown",
   "metadata": {},
   "source": [
    "#### Method의 두 가지 호출 방법\n",
    "```python\n",
    "a = FourCal()\n",
    "FourCal.setdata(a, 4, 2)\n",
    "```\n",
    "- 위와 같이 `클래스 이름.메서드` 형태로 호출할 때는 객체 a를 첫 번째 매개변수 self에 꼭 전달해 주어야 한다. \n",
    "- 반면에 다음처럼 `객체.메서드` 형태로 호출할 때는 self를 반드시 생략해서 호출해야 한다.\n",
    "\n",
    "```python\n",
    "a = FourCal()\n",
    "a.setdata(4, 2)\n",
    "```"
   ]
  },
  {
   "cell_type": "markdown",
   "metadata": {},
   "source": [
    "#### 생성자 `__init__`\n",
    "객체에 초깃값을 설정해야 할 필요가 있을 때는 setdata와 같은 메서드를 호출하여 초깃값을 설정하기보다는 생성자를 구현하는 것이 안전한 방법이다. \n",
    "\n",
    "생성자(Constructor)란 객체가 생성될 때 자동으로 호출되는 메서드를 의미한다."
   ]
  },
  {
   "cell_type": "code",
   "execution_count": null,
   "metadata": {},
   "outputs": [],
   "source": [
    "class FourCal:\n",
    "    def __init__(self, first, second):\n",
    "        self.first = first\n",
    "        self.second = second\n",
    "\n",
    "    def add(self):\n",
    "        return self.first + self.second\n",
    "    \n",
    "    def sub(self):\n",
    "        return self.first - self.second\n",
    "    \n",
    "    def mul(self):\n",
    "        return self.first * self.second\n",
    "    \n",
    "    def div(self):\n",
    "        return self.first / self.second  \n",
    "        \n",
    "a = FourCal(3, 5)\n",
    "print(a.first, a.second)\n",
    "print(a.add(), a.sub(), a.mul(), a.div())"
   ]
  },
  {
   "cell_type": "markdown",
   "metadata": {},
   "source": [
    "### 클래스의 상속"
   ]
  },
  {
   "cell_type": "markdown",
   "metadata": {},
   "source": [
    "#### 왜 상속을 해야 할까?\n",
    "\n",
    "보통 상속은 기존 클래스를 변경하지 않고 기능을 추가하거나 기존 기능을 변경하려고 할 때 사용한다.\n",
    "\n",
    "\"클래스에 기능을 추가하고 싶으면 기존 클래스를 수정하면 되는데 왜 굳이 상속을 받아서 처리해야 하지?\" 라는 의문이 들 수도 있다. 하지만 기존 클래스가 라이브러리 형태로 제공되거나 수정이 허용되지 않는 상황이라면 상속을 사용해야 한다.\n",
    "\n",
    "```python\n",
    "class MoreFourCal(FourCal):\n",
    "```"
   ]
  },
  {
   "cell_type": "code",
   "execution_count": null,
   "metadata": {},
   "outputs": [],
   "source": [
    "class MoreFourCal(FourCal):\n",
    "    def pow(self):\n",
    "        return self.first ** self.second\n",
    "    \n",
    "b = MoreFourCal(2, 7)\n",
    "print(b.add(), b.sub(), b.pow())"
   ]
  },
  {
   "cell_type": "markdown",
   "metadata": {},
   "source": [
    "#### 메소드 오버라이딩\n",
    "상속 받기 전의 클래스에서 수정할 매소드가 있을 때 새로은 클래스를 통해 수정할 수 있다."
   ]
  },
  {
   "cell_type": "code",
   "execution_count": null,
   "metadata": {},
   "outputs": [],
   "source": [
    "class safeFourCal(FourCal):\n",
    "    def div(self):\n",
    "        if self.second == 0:\n",
    "            return 0\n",
    "        else:\n",
    "            return self.first / self.second\n",
    "        \n",
    "c = safeFourCal(4, 0)\n",
    "c.div()"
   ]
  },
  {
   "cell_type": "markdown",
   "metadata": {},
   "source": [
    "### 모듈"
   ]
  },
  {
   "cell_type": "markdown",
   "metadata": {},
   "source": [
    "#### `__name__` 변수란?\n",
    "\n",
    "파이썬의 `__name__` 변수는 파이썬이 내부적으로 사용하는 특별한 변수 이름이다. \n",
    "\n",
    "만약 C:\\doit>python mod1.py처럼 직접 mod1.py 파일을 실행할 경우 mod1.py의 `__name__` 변수에는 `__main__` 값이 저장된다. \n",
    "\n",
    "하지만 파이썬 셸이나 다른 파이썬 모듈에서 mod1을 import 할 경우에는 mod1.py의 `__name__` 변수에는 mod1.py의 모듈 이름 값 mod1이 저장된다.\n",
    "```python\n",
    "# mod1.py \n",
    "def add(a, b): \n",
    "    return a+b\n",
    "\n",
    "def sub(a, b): \n",
    "    return a-b\n",
    "\n",
    "if __name__ == \"__main__\":\n",
    "    print(add(1, 4))\n",
    "    print(sub(4, 2))\n",
    "```"
   ]
  },
  {
   "cell_type": "markdown",
   "metadata": {},
   "source": [
    "### 패키지\n",
    "##### 파이썬 패키지는 디렉터리와 파이썬 모듈로 이루어지며 구조는 다음과 같다."
   ]
  },
  {
   "cell_type": "markdown",
   "metadata": {},
   "source": [
    "```\n",
    "game/\n",
    "    __init__.py\n",
    "    sound/\n",
    "        __init__.py\n",
    "        echo.py\n",
    "        wav.py\n",
    "    graphic/\n",
    "        __init__.py\n",
    "        screen.py\n",
    "        render.py\n",
    "    play/\n",
    "        __init__.py\n",
    "        run.py\n",
    "        test.py\n",
    "```\n",
    "game, sound, graphic, play는 **디렉터리 이름**이고 확장자가 .py인 파일은 **파이썬 모듈**이다. \n",
    "\n",
    "game 디렉터리가 이 패키지의 루트 디렉터리이고 sound, graphic, play는 서브 디렉터리이다."
   ]
  },
  {
   "cell_type": "markdown",
   "metadata": {},
   "source": [
    "#### `__init__.py`의 용도\n",
    "`__init__.py` 파일은 해당 디렉터리가 패키지의 일부임을 알려주는 역할을 한다. 만약 game, sound, graphic 등 패키지에 포함된 디렉터리에 `__init__.py` 파일이 없다면 패키지로 인식되지 않는다.\n",
    "\n",
    "python3.3 버전부터는 `__init__.py` 파일이 없어도 패키지로 인식한다(PEP 420). 하지만 하위 버전 호환을 위해 `__init__.py` 파일을 생성하는 것이 안전한 방법이다."
   ]
  },
  {
   "cell_type": "markdown",
   "metadata": {},
   "source": [
    "#### import *\n",
    "특정 디렉터리의 모듈을 \\*를 사용하여 import할 때에는 다음과 같이 해당 디렉터리의 `__init__.py` 파일에 `__all__` 변수를 설정하고 import할 수 있는 모듈을 정의해 주어야 한다.\n",
    "\n",
    "착각하기 쉬운데 from game.sound.echo import \\* 는 `__all__`과 상관없이 무조건 import된다. 이렇게 `__all__`과 상관없이 무조건 import되는 경우는 from a.b.c import \\* 에서 from의 마지막 항목인 c가 모듈인 경우이다."
   ]
  },
  {
   "cell_type": "markdown",
   "metadata": {},
   "source": [
    "#### Relative 패키지\n",
    "- `..` - 부모 디렉터리\n",
    "- `.` - 현재 디렉터리"
   ]
  },
  {
   "cell_type": "markdown",
   "metadata": {},
   "source": [
    "- 만약 graphic 디렉터리의 render.py 모듈이 sound 디렉터리의 echo.py 모듈을 사용하고 싶다면 어떻게 해야 할까?\n",
    "\n",
    "- `from game.sound.echo import echo_test`를 입력해 전체 경로를 사용하여 import할 수도 있지만 다음과 같이 relative하게 import하는 것도 가능하다.\n",
    "\n",
    "- from game.sound.echo import echo_test가 `from ..sound.echo import echo_test`로 변경되었다. 여기에서 ..은 부모 디렉터리를 의미한다. graphic과 sound 디렉터리는 동일한 깊이(depth)이므로 부모 디렉터리(..)를 사용하여 위와 같은 import가 가능한 것이다."
   ]
  },
  {
   "cell_type": "markdown",
   "metadata": {},
   "source": [
    "### 오류 예외 처리기법\n",
    "#### try, except문 : 3가지 방법으로 사용할 수 있다.\n",
    ">except [발생 오류 [as 오류 메시지 변수]]:\n",
    "\n",
    " 위 구문을 보면 [ ] 기호를 사용하는데, 이 기호는 괄호 안의 내용을 생략할 수 있다는 관례 표기법이다. 즉 except 구문은 다음 3가지 방법으로 사용할 수 있다."
   ]
  },
  {
   "cell_type": "markdown",
   "metadata": {},
   "source": [
    "#### 1. try, except만 쓰는 방법\n",
    "```python\n",
    "try:\n",
    "    ...\n",
    "except:\n",
    "    ...\n",
    "```\n",
    "오류 종류에 상관없이 오류가 발생하면 except 블록을 수행한다.\n",
    "\n",
    "#### 2. 발생 오류만 포함한 except문\n",
    "```python\n",
    "try:\n",
    "    ...\n",
    "except 발생 오류:\n",
    "    ...\n",
    "```\n",
    "오류가 발생했을 때 except문에 미리 정해 놓은 오류 이름과 일치할 때만 except 블록을 수행한다.\n",
    "\n",
    "#### 3. 발생 오류와 오류 메시지 변수까지 포함한 except문\n",
    "```python\n",
    "try:\n",
    "    ...\n",
    "except 발생 오류 as 오류 메시지 변수:\n",
    "    ...\n",
    "```\n",
    "두 번째 경우에서 오류 메시지의 내용까지 알고 싶을 때 사용하는 방법이다."
   ]
  },
  {
   "cell_type": "code",
   "execution_count": null,
   "metadata": {},
   "outputs": [],
   "source": [
    "try:\n",
    "    4 / 0\n",
    "except ZeroDivisionError as e:\n",
    "    print('결과값 :', e)"
   ]
  },
  {
   "cell_type": "markdown",
   "metadata": {},
   "source": [
    "#### **try, finally문**\n",
    "finally절은 try문 수행 도중 예외 발생 여부에 상관없이 항상 수행된다. 보통 finally절은 사용한 리소스를 close해야 할 때에 많이 사용한다.\n",
    "\n",
    "```python\n",
    "f = open('foo.txt', 'w')\n",
    "try:\n",
    "    # 무언가를 수행한다.\n",
    "finally:\n",
    "    f.close()\n",
    "```"
   ]
  },
  {
   "cell_type": "markdown",
   "metadata": {},
   "source": [
    "#### **여러 개의 오류 처리하기**\n",
    "```python\n",
    "try:\n",
    "    a = [1,2]\n",
    "    print(a[3])\n",
    "    4/0\n",
    "    \n",
    "except ZeroDivisionError:\n",
    "    print(\"0으로 나눌 수 없습니다.\")\n",
    "except IndexError:\n",
    "    print(\"인덱싱 할 수 없습니다.\")\n",
    "    \n",
    "## or\n",
    "# except ZeroDivisionError as e:\n",
    "#     print(e)\n",
    "# except IndexError as e:\n",
    "#     print(e)\n",
    "```\n",
    "2개 이상의 오류를 동일하게 처리하기 위해서는 아래와 같이 괄호를 사용하여 함께 묶어 처리하면 된다."
   ]
  },
  {
   "cell_type": "code",
   "execution_count": null,
   "metadata": {},
   "outputs": [],
   "source": [
    "try:\n",
    "    a = [1,2]\n",
    "    print(a[3])\n",
    "    4/0\n",
    "    \n",
    "except (ZeroDivisionError, IndexError) as e:\n",
    "    print(e)"
   ]
  },
  {
   "cell_type": "markdown",
   "metadata": {},
   "source": [
    "#### **try 문에 else 절 사용하기**\n",
    "try문 수행중 오류가 발생하면 except절이 수행되고 오류가 없으면 else절이 수행된다.\n",
    "```python\n",
    "try:\n",
    "    ...\n",
    "except [발생 오류[as 오류 메시지 변수]]:\n",
    "    ...\n",
    "else:  # 오류가 없을 경우에만 수행된다.\n",
    "    ...\n",
    "```"
   ]
  },
  {
   "cell_type": "code",
   "execution_count": null,
   "metadata": {},
   "outputs": [],
   "source": [
    "try:\n",
    "    age=int(input('나이를 입력하세요: '))\n",
    "except:\n",
    "    print('입력이 정확하지 않습니다.')\n",
    "else:\n",
    "    if age <= 18:\n",
    "        print('미성년자는 출입금지입니다.')\n",
    "    else:\n",
    "        print('환영합니다.')"
   ]
  },
  {
   "cell_type": "markdown",
   "metadata": {},
   "source": [
    "#### **오류 회피하기**\n",
    "```python\n",
    "try:\n",
    "    f = open(\"나없는파일\", 'r')\n",
    "except FileNotFoundError:\n",
    "    pass\n",
    "```"
   ]
  },
  {
   "cell_type": "markdown",
   "metadata": {},
   "source": [
    "#### **오류 일부러 발생시키기**\n",
    "프로그래밍을 하다 보면 종종 오류를 일부러 발생시켜야 할 경우도 생긴다. 파이썬은 raise 명령어를 사용해 오류를 강제로 발생시킬 수 있다.\n",
    "\n",
    "예를 들어 Bird 클래스를 상속받는 자식 클래스는 반드시 fly라는 함수를 구현하도록 만들고 싶은 경우(강제로 그렇게 하고 싶은 경우)가 있을 수 있다.\n",
    "```python\n",
    "class Bird:\n",
    "    def fly(self):\n",
    "        raise NotImplementedError\n",
    "```\n",
    "\n",
    "NotImplementedError는 파이썬 내장 오류로, 꼭 작성해야 하는 부분이 구현되지 않았을 경우 일부러 오류를 일으키기 위해 사용한다."
   ]
  },
  {
   "cell_type": "markdown",
   "metadata": {},
   "source": [
    "#### 예외 만들기\n",
    "프로그램 수행 도중 특수한 경우에만 예외 처리를 하기 위해서 종종 예외를 만들어서 사용한다. 예외는 다음과 같이 파이썬 내장 클래스인 Exception 클래스를 상속하여 만들 수 있다."
   ]
  },
  {
   "cell_type": "code",
   "execution_count": null,
   "metadata": {},
   "outputs": [],
   "source": [
    "class MyError(Exception):\n",
    "    pass"
   ]
  },
  {
   "cell_type": "code",
   "execution_count": null,
   "metadata": {},
   "outputs": [],
   "source": [
    "def say_nick(nick):\n",
    "    if nick == '바보':\n",
    "        raise MyError()\n",
    "    print(nick)\n",
    "    \n",
    "say_nick('천사')\n",
    "say_nick('바보')"
   ]
  },
  {
   "cell_type": "markdown",
   "metadata": {},
   "source": [
    "##### 예외 처리기법을 사용했을 때"
   ]
  },
  {
   "cell_type": "code",
   "execution_count": null,
   "metadata": {},
   "outputs": [],
   "source": [
    "try:\n",
    "    say_nick('천사')\n",
    "    say_nick('바보')\n",
    "except:\n",
    "    print('허용되지 않는 별명입니다.')"
   ]
  },
  {
   "cell_type": "markdown",
   "metadata": {},
   "source": [
    "##### 오류 메시지를 출력하고 싶을 때"
   ]
  },
  {
   "cell_type": "code",
   "execution_count": null,
   "metadata": {},
   "outputs": [],
   "source": [
    "try:\n",
    "    say_nick('천사')\n",
    "    say_nick('바보')\n",
    "except MyError as e:\n",
    "    print(e)"
   ]
  },
  {
   "cell_type": "markdown",
   "metadata": {},
   "source": [
    "하지만 프로그램을 실행해 보면 print(e)로 오류 메시지가 출력되지 않는 것을 확인할 수 있다. 오류 메시지를 출력했을 때 오류 메시지가 보이게 하려면 오류 클래스에 다음과 같은 `__str__` 메서드를 구현해야 한다."
   ]
  },
  {
   "cell_type": "code",
   "execution_count": null,
   "metadata": {},
   "outputs": [],
   "source": [
    "class MyError(Exception):\n",
    "    def __str__(self):\n",
    "        return \"허용되지 않는 별명입니다.\""
   ]
  },
  {
   "cell_type": "markdown",
   "metadata": {},
   "source": [
    "## 05장 연습문제"
   ]
  },
  {
   "cell_type": "markdown",
   "metadata": {},
   "source": [
    "#### Q1. 다음은 Calculator 클래스이다.\n",
    "```python\n",
    "class Calculator:\n",
    "    def __init__(self):\n",
    "        self.value = 0\n",
    "        \n",
    "    def add(self, val):\n",
    "        self.value += val\n",
    "```\n",
    "위 클래스를 상속하는 UpgradeCalculator를 만들고 값을 뺄 수 있는 minus 메서드를 추가해 보자. 즉 다음과 같이 동작하는 클래스를 만들어야 한다.\n",
    "```\n",
    "cal = UpgradeCalculator()\n",
    "cal.add(10)\n",
    "cal.minus(7)\n",
    "\n",
    "print(cal.value) # 10에서 7을 뺀 3을 출력\n",
    "```"
   ]
  },
  {
   "cell_type": "code",
   "execution_count": null,
   "metadata": {},
   "outputs": [],
   "source": [
    "class Calculator:\n",
    "    def __init__(self):\n",
    "        self.value = 0\n",
    "    \n",
    "    def add(self, val):\n",
    "        self.value += val\n",
    "        \n",
    "class UpgradeCalculator(Calculator):\n",
    "    def minus(self, val):\n",
    "        self.value -= val\n",
    "        \n",
    "a = UpgradeCalculator()\n",
    "a.add(10)\n",
    "print(a.value)\n",
    "a.minus(7)\n",
    "print(a.value)"
   ]
  },
  {
   "cell_type": "markdown",
   "metadata": {},
   "source": [
    "#### Q2. 객체변수 value가 100 이상의 값은 가질 수 없도록 제한하는 MaxLimitCalculator 클래스를 만들어 보자. 즉 다음과 같이 동작해야 한다.\n",
    "```python\n",
    "cal = MaxLimitCalculator()\n",
    "cal.add(50) # 50 더하기\n",
    "cal.add(60) # 60 더하기\n",
    "\n",
    "print(cal.value) # 100 출력\n",
    "```\n",
    "단 반드시 다음과 같은 Calculator 클래스를 상속해서 만들어야 한다.\n",
    "```python\n",
    "class Calculator:\n",
    "    def __init__(self):\n",
    "        self.value = 0\n",
    "\n",
    "    def add(self, val):\n",
    "        self.value += val\n",
    "```"
   ]
  },
  {
   "cell_type": "code",
   "execution_count": null,
   "metadata": {},
   "outputs": [],
   "source": [
    "class MaxLimitCalculator(Calculator):\n",
    "    def add(self, val):\n",
    "        self.value += val\n",
    "        \n",
    "        if self.value > 100:\n",
    "            self.value = 100\n",
    "\n",
    "cal = MaxLimitCalculator()\n",
    "\n",
    "cal.add(50)\n",
    "print(cal.value)\n",
    "cal.add(30)\n",
    "print(cal.value)\n",
    "cal.add(50)\n",
    "print(cal.value)"
   ]
  },
  {
   "cell_type": "markdown",
   "metadata": {},
   "source": [
    "#### Q3. 다음 결과를 예측해보자.\n",
    "1.\n",
    "```python\n",
    "all([1, 2, abs(-3)-3])\n",
    "```\n",
    "2.\n",
    "```python\n",
    "chr(ord('a')) == 'a'\n",
    "```"
   ]
  },
  {
   "cell_type": "markdown",
   "metadata": {},
   "source": [
    "1. False\n",
    "2. True"
   ]
  },
  {
   "cell_type": "markdown",
   "metadata": {},
   "source": [
    "#### Q4. filter와 lambda를 사용하여 리스트 [1, -2, 3, -5, 8, -3]에서 음수를 모두 제거해 보자."
   ]
  },
  {
   "cell_type": "code",
   "execution_count": 7,
   "metadata": {},
   "outputs": [
    {
     "name": "stdout",
     "output_type": "stream",
     "text": [
      "[1, 3, 8]\n"
     ]
    }
   ],
   "source": [
    "a = [1, -2, 3, -5, 8, -3]\n",
    "\n",
    "positive_filter = lambda x : x >= 0\n",
    "\n",
    "new_a = list(filter(positive_filter, a))\n",
    "print(new_a)"
   ]
  },
  {
   "cell_type": "markdown",
   "metadata": {},
   "source": [
    "#### Q5. \n",
    "234라는 10진수의 16진수는 다음과 같이 구할 수 있다.\n",
    "\n",
    "```\n",
    "hex(234)\n",
    "'0xea'\n",
    "```\n",
    "\n",
    "이번에는 반대로 16진수 문자열 0xea를 10진수로 변경해 보자.\n",
    "\n",
    "※ 내장 함수 int를 활용해 보자."
   ]
  },
  {
   "cell_type": "code",
   "execution_count": 8,
   "metadata": {},
   "outputs": [
    {
     "data": {
      "text/plain": [
       "234"
      ]
     },
     "execution_count": 8,
     "metadata": {},
     "output_type": "execute_result"
    }
   ],
   "source": [
    "int(0xea)"
   ]
  },
  {
   "cell_type": "markdown",
   "metadata": {},
   "source": [
    "#### Q6. map과 lambda를 사용하여 [1, 2, 3, 4] 리스트의 각 요솟값에 3이 곱해진 리스트 [3, 6, 9, 12]를 만들어 보자."
   ]
  },
  {
   "cell_type": "code",
   "execution_count": 9,
   "metadata": {},
   "outputs": [
    {
     "name": "stdout",
     "output_type": "stream",
     "text": [
      "[3, 6, 9, 12]\n"
     ]
    }
   ],
   "source": [
    "print(list(map(lambda x : 3*x, [1, 2, 3, 4])))"
   ]
  },
  {
   "cell_type": "markdown",
   "metadata": {},
   "source": [
    "#### Q7. 다음 리스트의 최댓값과 최솟값의 합을 구해 보자.\n",
    "```\n",
    "[-8, 2, 7, 5, -3, 5, 0, 1]\n",
    "```"
   ]
  },
  {
   "cell_type": "code",
   "execution_count": 13,
   "metadata": {},
   "outputs": [
    {
     "name": "stdout",
     "output_type": "stream",
     "text": [
      "[-8, -3, 0, 1, 2, 5, 5, 7]\n",
      "-1\n"
     ]
    }
   ],
   "source": [
    "list_a = [-8, 2, 7, 5, -3, 5, 0, 1]\n",
    "list_a.sort()\n",
    "\n",
    "print(list_a)\n",
    "print(list_a[0] + list_a[-1])"
   ]
  },
  {
   "cell_type": "markdown",
   "metadata": {},
   "source": [
    "#### Q8. \n",
    "17 / 3의 결과는 다음과 같다.\n",
    "```\n",
    "17 / 3\n",
    "5.666666666666667\n",
    "```\n",
    "위와 같은 결괏값 5.666666666666667을 소숫점 4자리까지만 반올림하여 표시해 보자."
   ]
  },
  {
   "cell_type": "code",
   "execution_count": 17,
   "metadata": {},
   "outputs": [
    {
     "name": "stdout",
     "output_type": "stream",
     "text": [
      "4.2500\n"
     ]
    }
   ],
   "source": [
    "print('%.4f'%(17/4))"
   ]
  },
  {
   "cell_type": "markdown",
   "metadata": {},
   "source": [
    "#### Q9. 다음과 같이 실행할 때 입력값을 모두 더하여 출력하는 스크립트 myargv.py 를 작성해 보자.\n",
    "```\n",
    "C:\\> cd doit\n",
    "C:\\doit> python myargv.py 1 2 3 4 5 6 7 8 9 10\n",
    "55\n",
    "```\n",
    "※ 외장 함수 sys.argv를 사용해 보자."
   ]
  },
  {
   "cell_type": "code",
   "execution_count": null,
   "metadata": {},
   "outputs": [],
   "source": []
  },
  {
   "cell_type": "markdown",
   "metadata": {},
   "source": [
    "#### Q10. os 모듈을 사용하여 다음과 같이 동작하도록 코드를 작성해 보자.\n",
    "\n",
    "1. C:\\doit 디렉터리로 이동한다.\n",
    "2. dir 명령을 실행하고 그 결과를 변수에 담는다.\n",
    "3. dir 명령의 결과를 출력한다."
   ]
  },
  {
   "cell_type": "code",
   "execution_count": null,
   "metadata": {},
   "outputs": [],
   "source": []
  },
  {
   "cell_type": "markdown",
   "metadata": {},
   "source": [
    "#### Q11. glob 모듈을 사용하여 C:\\doit 디렉터리의 파일 중 확장자가 .py인 파일만 출력하는 프로그램을 작성해 보자."
   ]
  },
  {
   "cell_type": "code",
   "execution_count": null,
   "metadata": {},
   "outputs": [],
   "source": []
  },
  {
   "cell_type": "markdown",
   "metadata": {},
   "source": [
    "#### Q12. time 모듈을 사용하여 현재 날짜와 시간을 다음과 같은 형식으로 출력해 보자.\n",
    "```\n",
    "2018/04/03 17:20:32\n",
    "```"
   ]
  },
  {
   "cell_type": "code",
   "execution_count": 35,
   "metadata": {},
   "outputs": [
    {
     "name": "stdout",
     "output_type": "stream",
     "text": [
      "2021/Jun/8 21:42:00\n"
     ]
    }
   ],
   "source": [
    "import time\n",
    "\n",
    "## print(time.asctime())   # Tue Jun  8 21:39:26 2021\n",
    "c = time.asctime().split()\n",
    "print(c[4]+'/'+c[1]+'/'+c[2], c[3])"
   ]
  },
  {
   "cell_type": "markdown",
   "metadata": {},
   "source": [
    "#### Q13. random 모듈을 사용하여 로또 번호(1~45 사이의 숫자 6개)를 생성해 보자(단 중복된 숫자가 있으면 안 됨)."
   ]
  },
  {
   "cell_type": "code",
   "execution_count": 27,
   "metadata": {},
   "outputs": [
    {
     "name": "stdout",
     "output_type": "stream",
     "text": [
      "[14, 22, 33, 36, 39, 40]\n"
     ]
    }
   ],
   "source": [
    "import random\n",
    "\n",
    "Lotto_num = list(range(1,46))\n",
    "pick_num = sorted(random.sample(Lotto_num, 6))\n",
    "\n",
    "print(pick_num)"
   ]
  },
  {
   "cell_type": "markdown",
   "metadata": {},
   "source": [
    "## 06장 파이썬 프로그래밍"
   ]
  },
  {
   "cell_type": "markdown",
   "metadata": {},
   "source": [
    "#### 게시판 페이징하기"
   ]
  },
  {
   "cell_type": "code",
   "execution_count": 40,
   "metadata": {},
   "outputs": [
    {
     "name": "stdout",
     "output_type": "stream",
     "text": [
      "게시물 수 : 115\n",
      "한 페이지당 보여줄 게시물 수 : 15\n",
      "8 페이지 입니다.\n"
     ]
    }
   ],
   "source": [
    "page = int(input('게시물 수 : '))\n",
    "base = int(input('한 페이지당 보여줄 게시물 수 : '))\n",
    "\n",
    "result = page // base\n",
    "if page % base == 0:\n",
    "    print(result, '페이지 입니다.')\n",
    "else:\n",
    "    print(result+1, '페이지 입니다.')"
   ]
  },
  {
   "cell_type": "markdown",
   "metadata": {},
   "source": [
    "## 07장 정규표현식(re : regular expression)"
   ]
  },
  {
   "cell_type": "markdown",
   "metadata": {},
   "source": [
    "- [a-zA-Z] : 알파벳 모두\n",
    "\n",
    "- [0-9] : 숫자\n",
    "\n",
    "- ^ : 반대 의미, [^0-9] : 숫자가 아닌 문자"
   ]
  },
  {
   "cell_type": "markdown",
   "metadata": {},
   "source": [
    "#### 자주 사용하는 문자 클래스\n",
    "\\d - 숫자와 매치, `[0-9]`와 동일한 표현식이다.\n",
    "\n",
    "\\D - 숫자가 아닌 것과 매치, `[^0-9]`와 동일한 표현식이다.\n",
    "\n",
    "\\s - whitespace 문자와 매치, `[ \\t\\n\\r\\f\\v]`와 동일한 표현식이다. 맨 앞의 빈 칸은 공백문자(space)를 의미한다.\n",
    "\n",
    "\\S - whitespace 문자가 아닌 것과 매치, `[^ \\t\\n\\r\\f\\v]`와 동일한 표현식이다.\n",
    "\n",
    "\\w - 문자+숫자(alphanumeric)와 매치, `[a-zA-Z0-9_]`와 동일한 표현식이다.\n",
    "\n",
    "\\W - 문자+숫자(alphanumeric)가 아닌 문자와 매치, `[^a-zA-Z0-9_]`와 동일한 표현식이다."
   ]
  },
  {
   "cell_type": "code",
   "execution_count": 23,
   "metadata": {},
   "outputs": [
    {
     "name": "stdout",
     "output_type": "stream",
     "text": [
      "1****\t****1\n",
      "2****\n",
      "****2\n",
      "3****\r",
      "****3\n",
      "4****\f",
      "****4\n",
      "5****\u000b",
      "****5\n"
     ]
    }
   ],
   "source": [
    "print('1****\\t****1')   # 수평탭 간격 띄우기\n",
    "print('2****\\n****2')   # 줄바꿈\n",
    "print('3****\\r****3')   # 종일한 줄의 맨 앞으로 커서 이동\n",
    "print('4****\\f****4')   # 프린트 출력 용지를 한 페이지 넘김\n",
    "print('5****\\v****5')   # 수직 탭 간격 띄우기"
   ]
  },
  {
   "cell_type": "markdown",
   "metadata": {},
   "source": [
    "#### Dot(.) - 정규 표현식의 Dot(.) 메타 문자는 줄바꿈 문자인 \\n을 제외한 모든 문자와 매치됨을 의미한다.\n",
    "a.b - \"a + 모든문자 + b\"\n",
    "\n",
    "\"aab\"는 가운데 문자 \"a\"가 모든 문자를 의미하는 .과 일치하므로 정규식과 매치된다.\n",
    "\n",
    "\"a0b\"는 가운데 문자 \"0\"가 모든 문자를 의미하는 .과 일치하므로 정규식과 매치된다.\n",
    "\n",
    "\"abc\"는 \"a\"문자와 \"b\"문자 사이에 어떤 문자라도 하나는있어야 하는 이 정규식과 일치하지 않으므로 매치되지 않는다."
   ]
  },
  {
   "cell_type": "markdown",
   "metadata": {},
   "source": [
    "a[.]b - \"a + . + b\""
   ]
  },
  {
   "cell_type": "markdown",
   "metadata": {},
   "source": [
    "#### 반복 (*)\n",
    "ca*t - *은 * 바로 앞에 있는 문자 a가 0부터 무한대로 반복될 수 있다는 의미 \n",
    "\n",
    "#### 반복 (+)\n",
    "ca+t - +는 최소 1번 이상 반복될 때 사용한다. 즉 *가 반복 횟수 0부터라면 +는 반복 횟수 1부터인 것이다.\n",
    "\n",
    "#### 반복 ({m, n})\n",
    "ca{2,5}t - {m, n} 정규식을 사용하면 반복 횟수가 m부터 n까지 매치할 수 있다. 또한 m 또는 n을 생략할 수도 있다. \n",
    "\n",
    "{3} - 3번 반드시 반복한다.\n",
    "\n",
    "만약 {3,}처럼 사용하면 반복 횟수가 3 이상인 경우이고 {,3}처럼 사용하면 반복 횟수가 3 이하를 의미한다.\n",
    "\n",
    "#### ?\n",
    "ca?t - 있어도 되고 없어도 된다. {0, 1}과 매칭된다."
   ]
  },
  {
   "cell_type": "markdown",
   "metadata": {},
   "source": [
    "### 정규식을 이용한 문자열 검색\n",
    "\n",
    "\n",
    "match() - 문자열의 처음부터 정규식과 매치되는지 조사한다.\n",
    "\n",
    "search() - 문자열 전체를 검색하여 정규식과 매치되는지 조사한다.\n",
    "\n",
    "findall() - 정규식과 매치되는 모든 문자열을 리스트로 돌려준다.\n",
    "\n",
    "finditer() - 정규식과 매치되는 모든 문자열을 반복 가능한 객체로 돌려준다."
   ]
  },
  {
   "cell_type": "markdown",
   "metadata": {},
   "source": [
    "match, search는 정규식과 매치될 때는 match 객체를 돌려주고, 매치되지 않을 때는 None을 돌려준다. \n",
    "\n",
    "> match 객체란 정규식의 검색 결과로 돌려주는 객체이다"
   ]
  },
  {
   "cell_type": "code",
   "execution_count": 5,
   "metadata": {},
   "outputs": [
    {
     "name": "stdout",
     "output_type": "stream",
     "text": [
      "None\n"
     ]
    }
   ],
   "source": [
    "import re\n",
    "\n",
    "p = re.compile('[a-z]+')\n",
    "\n",
    "m = p.match('3 python')\n",
    "print(m)\n",
    "## 처음부터 검색하기 때문에 3으로 인해 None을 반환"
   ]
  },
  {
   "cell_type": "code",
   "execution_count": 6,
   "metadata": {},
   "outputs": [
    {
     "name": "stdout",
     "output_type": "stream",
     "text": [
      "<re.Match object; span=(2, 8), match='python'>\n"
     ]
    }
   ],
   "source": [
    "import re\n",
    "\n",
    "p = re.compile('[a-z]+')\n",
    "\n",
    "m = p.search('3 python')\n",
    "print(m)\n",
    "## 문자열 전체를 검색하기 때문에 match를 반환. 2~8 구간"
   ]
  },
  {
   "cell_type": "code",
   "execution_count": 11,
   "metadata": {},
   "outputs": [
    {
     "name": "stdout",
     "output_type": "stream",
     "text": [
      "입력 : 28h398eh239eh3298eh\n",
      "match found : ['h', 'eh', 'eh', 'eh']\n"
     ]
    }
   ],
   "source": [
    "import re\n",
    "\n",
    "p = re.compile('[a-zA-Z]+')\n",
    "\n",
    "target = input('입력 : ')\n",
    "m = p.match(target)\n",
    "\n",
    "if m:\n",
    "    print('match found :', m.group())\n",
    "else:\n",
    "    print('No match')"
   ]
  },
  {
   "cell_type": "markdown",
   "metadata": {},
   "source": [
    "#### match의 경우"
   ]
  },
  {
   "cell_type": "code",
   "execution_count": 13,
   "metadata": {},
   "outputs": [
    {
     "name": "stdout",
     "output_type": "stream",
     "text": [
      "<re.Match object; span=(0, 1), match='e'>\n",
      "<re.Match object; span=(0, 1), match='e'>\n",
      "<re.Match object; span=(0, 1), match='e'>\n",
      "<re.Match object; span=(0, 1), match='e'>\n",
      "<re.Match object; span=(0, 1), match='e'>\n"
     ]
    }
   ],
   "source": [
    "import re\n",
    "\n",
    "p = re.compile('[a-zA-Z]+')\n",
    "\n",
    "for i in range(5):\n",
    "    m = p.match('e9127eh912h9rg2rewhirgb3')\n",
    "    print(m)"
   ]
  },
  {
   "cell_type": "markdown",
   "metadata": {},
   "source": [
    "#### seach의 경우"
   ]
  },
  {
   "cell_type": "code",
   "execution_count": 14,
   "metadata": {},
   "outputs": [
    {
     "name": "stdout",
     "output_type": "stream",
     "text": [
      "<re.Match object; span=(0, 1), match='e'>\n",
      "<re.Match object; span=(0, 1), match='e'>\n",
      "<re.Match object; span=(0, 1), match='e'>\n",
      "<re.Match object; span=(0, 1), match='e'>\n",
      "<re.Match object; span=(0, 1), match='e'>\n"
     ]
    }
   ],
   "source": [
    "import re\n",
    "\n",
    "p = re.compile('[a-zA-Z]+')\n",
    "\n",
    "for i in range(5):\n",
    "    m = p.search('e9127eh912h9rg2rewhirgb3')\n",
    "    print(m)"
   ]
  },
  {
   "cell_type": "markdown",
   "metadata": {},
   "source": [
    "#### findall의 경우"
   ]
  },
  {
   "cell_type": "code",
   "execution_count": 15,
   "metadata": {},
   "outputs": [
    {
     "name": "stdout",
     "output_type": "stream",
     "text": [
      "['e', 'eh', 'h', 'rg', 'rewhirgb']\n",
      "['e', 'eh', 'h', 'rg', 'rewhirgb']\n",
      "['e', 'eh', 'h', 'rg', 'rewhirgb']\n",
      "['e', 'eh', 'h', 'rg', 'rewhirgb']\n",
      "['e', 'eh', 'h', 'rg', 'rewhirgb']\n"
     ]
    }
   ],
   "source": [
    "import re\n",
    "\n",
    "p = re.compile('[a-zA-Z]+')\n",
    "\n",
    "for i in range(5):\n",
    "    m = p.findall('e9127eh912h9rg2rewhirgb3')\n",
    "    print(m)"
   ]
  },
  {
   "cell_type": "markdown",
   "metadata": {},
   "source": [
    "#### finditer의 경우"
   ]
  },
  {
   "cell_type": "code",
   "execution_count": 18,
   "metadata": {},
   "outputs": [
    {
     "name": "stdout",
     "output_type": "stream",
     "text": [
      "<re.Match object; span=(0, 1), match='e'>\n",
      "<re.Match object; span=(5, 7), match='eh'>\n",
      "<re.Match object; span=(10, 11), match='h'>\n",
      "<re.Match object; span=(12, 14), match='rg'>\n",
      "<re.Match object; span=(15, 23), match='rewhirgb'>\n"
     ]
    }
   ],
   "source": [
    "import re\n",
    "\n",
    "p = re.compile('[a-zA-Z]+')\n",
    "m = p.finditer('e9127eh912h9rg2rewhirgb3')\n",
    "\n",
    "for i in m:\n",
    "    print(i)"
   ]
  },
  {
   "cell_type": "markdown",
   "metadata": {},
   "source": [
    "### match 객체의 메서드\n",
    "\n",
    "group()\t- 매치된 문자열을 돌려준다.\n",
    "\n",
    "start()\t- 매치된 문자열의 시작 위치를 돌려준다.\n",
    "\n",
    "end() - 매치된 문자열의 끝 위치를 돌려준다.\n",
    "\n",
    "span() - 매치된 문자열의 (시작, 끝)에 해당하는 튜플을 돌려준다.\n",
    "\n",
    "#### match 메서드를 수행한 결과로 돌려준 match 객체의 start()의 결괏값은 항상 0일 수밖에 없다. \n",
    "#### 왜냐하면 match 메서드는 항상 문자열의 시작부터 조사하기 때문이다."
   ]
  },
  {
   "cell_type": "code",
   "execution_count": 21,
   "metadata": {
    "scrolled": true
   },
   "outputs": [
    {
     "name": "stdout",
     "output_type": "stream",
     "text": [
      "<re.Match object; span=(0, 1), match='e'>\n",
      "e\n",
      "0\n",
      "1\n",
      "(0, 1)\n",
      "\n",
      "<re.Match object; span=(5, 7), match='eh'>\n",
      "eh\n",
      "5\n",
      "7\n",
      "(5, 7)\n",
      "\n",
      "<re.Match object; span=(10, 11), match='h'>\n",
      "h\n",
      "10\n",
      "11\n",
      "(10, 11)\n",
      "\n",
      "<re.Match object; span=(12, 14), match='rg'>\n",
      "rg\n",
      "12\n",
      "14\n",
      "(12, 14)\n",
      "\n",
      "<re.Match object; span=(15, 23), match='rewhirgb'>\n",
      "rewhirgb\n",
      "15\n",
      "23\n",
      "(15, 23)\n",
      "\n"
     ]
    }
   ],
   "source": [
    "import re\n",
    "\n",
    "p = re.compile('[a-zA-Z]+')\n",
    "m = p.finditer('e9127eh912h9rg2rewhirgb3')\n",
    "\n",
    "for i in m:\n",
    "    print(i)\n",
    "    print(i.group())\n",
    "    print(i.start())\n",
    "    print(i.end())\n",
    "    print(i.span())\n",
    "    print()"
   ]
  },
  {
   "cell_type": "markdown",
   "metadata": {},
   "source": [
    "```python\n",
    "p = re.compile('[a-z]+')\n",
    "m = p.match(\"python\")\n",
    "```\n",
    "위 코드가 축약된 형태는 다음과 같다.\n",
    "```python\n",
    "m = re.match('[a-z]+', \"python\")\n",
    "```"
   ]
  },
  {
   "cell_type": "markdown",
   "metadata": {},
   "source": [
    "#### 정규식을 컴파일할 때 다음 옵션을 사용할 수 있다.\n",
    "\n",
    "DOTALL(re.S) - Dot(.) 이 줄바꿈 문자를 포함하여 모든 문자와 매치할 수 있도록 한다.\n",
    "\n",
    "IGNORECASE(re.I) - 대소문자에 관계없이 매치할 수 있도록 한다.\n",
    "\n",
    "MULTILINE(re.M) - 여러줄과 매치할 수 있도록 한다. (^, $ 메타문자의 사용과 관계가 있는 옵션이다)\n",
    "\n",
    "VERBOSE(re.X) - verbose 모드를 사용할 수 있도록 한다. (정규식을 보기 편하게 만들수 있고 주석등을 사용할 수 있게된다.)"
   ]
  },
  {
   "cell_type": "markdown",
   "metadata": {},
   "source": [
    "### re.S\n",
    "```python\n",
    "import re\n",
    "p = re.compile('a.b', re.DOTALL)\n",
    "m = p.match('a\\nb')\n",
    "\n",
    "print(m)\n",
    "```\n",
    "```\n",
    "<_sre.SRE_Match object at 0x01FCF3D8>\n",
    "```"
   ]
  },
  {
   "cell_type": "markdown",
   "metadata": {},
   "source": [
    "### re.I\n",
    "```python\n",
    "p = re.compile('[a-z]', re.I)\n",
    "\n",
    "p.match('python')\n",
    "p.match('Python')\n",
    "p.match('PYTHON')\n",
    "```\n",
    "```\n",
    "<_sre.SRE_Match object at 0x01FCFA30>\n",
    "<_sre.SRE_Match object at 0x01FCFA68>\n",
    "<_sre.SRE_Match object at 0x01FCF9F8>\n",
    "```"
   ]
  },
  {
   "cell_type": "markdown",
   "metadata": {},
   "source": [
    "### re.M\n",
    "```python\n",
    "import re\n",
    "p = re.compile(\"^python\\s\\w+\", re.MULTILINE)\n",
    "\n",
    "data = \"\"\"python one\n",
    "life is too short\n",
    "python two\n",
    "you need python\n",
    "python three\"\"\"\n",
    "\n",
    "print(p.findall(data))\n",
    "```\n",
    "```\n",
    "['python one', 'python two', 'python three']\n",
    "```"
   ]
  },
  {
   "cell_type": "markdown",
   "metadata": {},
   "source": [
    "### re.X\n",
    "```python\n",
    "charref = re.compile(r'&[#](0[0-7]+|[0-9]+|x[0-9a-fA-F]+);')\n",
    "```\n",
    "첫 번째와 두 번째 예를 비교해 보면 컴파일된 패턴 객체인 charref는 모두 동일한 역할을 한다. 하지만 정규식이 복잡할 경우 두 번째처럼 주석을 적고 여러 줄로 표현하는 것이 훨씬 가독성이 좋다는 것을 알 수 있다.\n",
    "```python\n",
    "charref = re.compile(r\"\"\"\n",
    " &[#]                # Start of a numeric entity reference\n",
    " (\n",
    "     0[0-7]+         # Octal form\n",
    "   | [0-9]+          # Decimal form\n",
    "   | x[0-9a-fA-F]+   # Hexadecimal form\n",
    " )\n",
    " ;                   # Trailing semicolon\n",
    "\"\"\", re.VERBOSE)\n",
    "```"
   ]
  },
  {
   "cell_type": "markdown",
   "metadata": {},
   "source": [
    "### 백슬래시 문제\n",
    "정규식 엔진에 백슬래시(\\\\)를 전달하고 싶으면 2가지 방법이 있다.\n",
    "1. 백슬래시(\\\\) 1개당 백슬래시 1개 더 붙인다.\n",
    "2. 정규식 문자열 맨 앞에 r을 붙인다. (Raw String)\n",
    "\n",
    "```python\n",
    "p = re.compile(r'\\section')\n",
    "```"
   ]
  },
  {
   "cell_type": "markdown",
   "metadata": {},
   "source": [
    "# 여기까지"
   ]
  },
  {
   "cell_type": "code",
   "execution_count": null,
   "metadata": {},
   "outputs": [],
   "source": []
  },
  {
   "cell_type": "markdown",
   "metadata": {},
   "source": []
  },
  {
   "cell_type": "code",
   "execution_count": null,
   "metadata": {},
   "outputs": [],
   "source": []
  },
  {
   "cell_type": "markdown",
   "metadata": {},
   "source": []
  },
  {
   "cell_type": "code",
   "execution_count": null,
   "metadata": {},
   "outputs": [],
   "source": []
  },
  {
   "cell_type": "markdown",
   "metadata": {},
   "source": []
  },
  {
   "cell_type": "code",
   "execution_count": null,
   "metadata": {},
   "outputs": [],
   "source": []
  }
 ],
 "metadata": {
  "kernelspec": {
   "display_name": "Python 3",
   "language": "python",
   "name": "python3"
  },
  "language_info": {
   "codemirror_mode": {
    "name": "ipython",
    "version": 3
   },
   "file_extension": ".py",
   "mimetype": "text/x-python",
   "name": "python",
   "nbconvert_exporter": "python",
   "pygments_lexer": "ipython3",
   "version": "3.8.5"
  }
 },
 "nbformat": 4,
 "nbformat_minor": 4
}
