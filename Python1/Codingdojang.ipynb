{
 "cells": [
  {
   "cell_type": "markdown",
   "metadata": {},
   "source": [
    "## Lv.1 \n"
   ]
  },
  {
   "cell_type": "markdown",
   "metadata": {},
   "source": [
    "10미만의 자연수에서 3과 5의 배수를 구하면 3,5,6,9이다. 이들의 총합은 23이다. 1000미만의 자연수에서 3,5의 배수의 총합을 구하라."
   ]
  },
  {
   "cell_type": "code",
   "execution_count": null,
   "metadata": {},
   "outputs": [],
   "source": [
    "print(sum(list(i for i in range(1,1000) if i % 3 == 0 or i % 5 == 0)))"
   ]
  },
  {
   "cell_type": "code",
   "execution_count": null,
   "metadata": {},
   "outputs": [],
   "source": [
    "set3 = set(range(0, 1000, 3))\n",
    "set5 = set(range(0, 1000, 5))\n",
    "\n",
    "print(sum(set3 | set5))"
   ]
  },
  {
   "cell_type": "markdown",
   "metadata": {},
   "source": [
    "---"
   ]
  },
  {
   "cell_type": "markdown",
   "metadata": {},
   "source": [
    "---"
   ]
  },
  {
   "cell_type": "markdown",
   "metadata": {},
   "source": [
    "주어진 문자열(공백 없이 쉼표로 구분되어 있음)을 가지고 아래 문제에 대한 프로그램을 작성하세요. \n",
    "```\n",
    "이유덕,이재영,권종표,이재영,박민호,강상희,이재영,김지완,최승혁,이성연,박영서,박민호,전경헌,송정환,김재성,이유덕,전경헌\n",
    "```\n",
    "1. 김씨와 이씨는 각각 몇 명 인가요?\n",
    "2. \"이재영\"이란 이름이 몇 번 반복되나요?\n",
    "3. 중복을 제거한 이름을 출력하세요.\n",
    "4. 중복을 제거한 이름을 오름차순으로 정렬하여 출력하세요."
   ]
  },
  {
   "cell_type": "code",
   "execution_count": null,
   "metadata": {},
   "outputs": [],
   "source": [
    "name_list = '이유덕,이재영,권종표,이재영,박민호,강상희,이재영,김지완,최승혁,이성연,박영서,박민호,전경헌,송정환,김재성,이유덕,전경헌'\n",
    "A = name_list.split(',')\n",
    "\n",
    "count_1 = 0\n",
    "count_2 = 0\n",
    "\n",
    "for i in A:\n",
    "    if i[0] == '김' or i[0] == '이':\n",
    "        count_1 += 1\n",
    "    \n",
    "    if i == '이재영':\n",
    "        count_2 += 1\n",
    "\n",
    "print('김씨와 이씨는 총', count_1, '명 입니다.')\n",
    "print()\n",
    "print('이재영은', count_2, '명 입니다.')\n",
    "print()\n",
    "\n",
    "set_name_list = set(A)\n",
    "new_name_list = list(set_name_list)\n",
    "print(new_name_list)\n",
    "\n",
    "print()\n",
    "new_name_list = sorted(new_name_list)\n",
    "print(new_name_list)"
   ]
  },
  {
   "cell_type": "markdown",
   "metadata": {},
   "source": [
    "### 복기 : count 함수와 sort 함수에 대해 숙지하기"
   ]
  },
  {
   "cell_type": "code",
   "execution_count": null,
   "metadata": {},
   "outputs": [],
   "source": [
    "names = \"이유덕,이재영,권종표,이재영,박민호,강상희,이재영,김지완,최승혁,이성연,박영서,박민호,전경헌,송정환,김재성,이유덕,전경헌\".split(\",\")\n",
    "\n",
    "#1\n",
    "a=[ i[0] for i in names ]\n",
    "print(\"김씨 : %d\\n이씨 : %d\\n\"%(a.count(\"김\"), a.count(\"이\")))\n",
    "\n",
    "#2\n",
    "print(names.count(\"이재영\"))\n",
    "\n",
    "#3\n",
    "uniq_names = list(set(names))\n",
    "print(uniq_names)\n",
    "\n",
    "#4\n",
    "uniq_names.sort()\n",
    "print(uniq_names)"
   ]
  },
  {
   "cell_type": "markdown",
   "metadata": {},
   "source": [
    "---"
   ]
  },
  {
   "cell_type": "markdown",
   "metadata": {},
   "source": [
    "---"
   ]
  },
  {
   "cell_type": "markdown",
   "metadata": {},
   "source": [
    "n개의 정수를 가진 배열이 있다. 이 배열은 양의 정수와 음의 정수를 모두 가지고 있다. 이제 당신은 이 배열을 좀 특별한 방법으로 정렬해야 한다.\n",
    "\n",
    "정렬이 되고 난 후, 음의 정수는 앞쪽에 양의 정수는 뒷쪽에 있어야 한다. 또한 양의 정수와 음의 정수의 순서에는 변함이 없어야 한다.\n",
    "```\n",
    "예)  [-1, 1, 3, -2, 2] \n",
    "ans: [-1, -2, 1, 3, 2]\n",
    "```"
   ]
  },
  {
   "cell_type": "code",
   "execution_count": null,
   "metadata": {},
   "outputs": [],
   "source": [
    "def compare(list_):\n",
    "    for i in range(len(list_)-1):\n",
    "        if list_[i] < 0 and list_[i+1] > 0:\n",
    "            pass\n",
    "        \n",
    "        elif list_[i] > 0 and list_[i+1] < 0:\n",
    "            list_[i], list_[i+1] = list_[i+1], list_[i]\n",
    "            \n",
    "    return list_\n",
    "            \n",
    "def arrange(list_):\n",
    "    for i in range(len(list_)-2):\n",
    "        list_ = compare(list_)\n",
    "    \n",
    "    return list_\n",
    "    \n",
    "a = [-1, 1, 3, -2, 2]\n",
    "A = arrange(a)\n",
    "print(A)\n",
    "\n",
    "b = [-1, 2, 3, -7, 1, 4, -2, 3, 5, -3]\n",
    "B = arrange(b)\n",
    "print(B)"
   ]
  },
  {
   "cell_type": "markdown",
   "metadata": {},
   "source": [
    "### 복기 : 리스트의 안에서 값을 바꿔야 한다는 편견을 깨기!"
   ]
  },
  {
   "cell_type": "code",
   "execution_count": null,
   "metadata": {},
   "outputs": [],
   "source": [
    "def do(alist):\n",
    "    return [x for x in alist if x < 0] + [x for x in alist if x >= 0]\n",
    "\n",
    "print(do([-1, 1, 3, -2, 2]))"
   ]
  },
  {
   "cell_type": "code",
   "execution_count": null,
   "metadata": {},
   "outputs": [],
   "source": [
    "list = [1, 2, 3, 4, 5, -5, -4, -3, -2, -1]\n",
    "\n",
    "def sort_item(list):\n",
    "    t1, t2 = [], []\n",
    "    \n",
    "    for i in list:\n",
    "        if i < 0:\n",
    "            t1.append(i)\n",
    "        else:\n",
    "            t2.append(i)\n",
    "            \n",
    "    return t1 + t2\n",
    "\n",
    "print(sort_item(list))"
   ]
  },
  {
   "cell_type": "markdown",
   "metadata": {},
   "source": [
    "---"
   ]
  },
  {
   "cell_type": "markdown",
   "metadata": {},
   "source": [
    "---"
   ]
  },
  {
   "cell_type": "markdown",
   "metadata": {},
   "source": [
    "피보나치 수열이란, 첫 번째 항의 값이 0이고 두 번째 항의 값이 1일 때, 이후의 항들은 이전의 두 항을 더한 값으로 이루어지는 수열을 말한다.\n",
    "```\n",
    "예) 0, 1, 1, 2, 3, 5, 8, 13\n",
    "```\n",
    "인풋을 정수 n으로 받았을때, n 이하까지의 피보나치 수열을 출력하는 프로그램을 작성하세요"
   ]
  },
  {
   "cell_type": "code",
   "execution_count": 14,
   "metadata": {},
   "outputs": [
    {
     "name": "stdout",
     "output_type": "stream",
     "text": [
      "정수를 입력하세요 : 100\n",
      "[0, 1, 1, 2, 3, 5, 8, 13, 21, 34, 55, 89]\n"
     ]
    }
   ],
   "source": [
    "num = int(input('정수를 입력하세요 : '))\n",
    "\n",
    "a = [0, 1]\n",
    "ans = 0\n",
    "\n",
    "while 1:\n",
    "    i = len(a) - 2\n",
    "    ans = a[i] + a[i+1]\n",
    "    if ans >= num:\n",
    "        break\n",
    "    a.append(ans)   \n",
    "\n",
    "print(a)"
   ]
  },
  {
   "cell_type": "markdown",
   "metadata": {},
   "source": [
    "### 복기 : 가끔은 생각을 단순하게!"
   ]
  },
  {
   "cell_type": "code",
   "execution_count": 17,
   "metadata": {},
   "outputs": [
    {
     "name": "stdout",
     "output_type": "stream",
     "text": [
      "정수를 입력하세요 : 100\n",
      "0 1 2 3 5 8 13 21 34 55 89 "
     ]
    }
   ],
   "source": [
    "num = int(input('정수를 입력하세요 : '))\n",
    "\n",
    "a, b = 0, 1\n",
    "print(0, end=' ')\n",
    "\n",
    "while 1:\n",
    "    a, b = b, a+b\n",
    "    if b >= num: break\n",
    "    print(b, end=' ')"
   ]
  },
  {
   "cell_type": "markdown",
   "metadata": {},
   "source": [
    "---"
   ]
  },
  {
   "cell_type": "markdown",
   "metadata": {},
   "source": [
    "---"
   ]
  },
  {
   "cell_type": "markdown",
   "metadata": {},
   "source": [
    "디지털 시계에 하루동안(00:00~23:59) 3이 표시되는 시간을 초로 환산하면 총 몇 초(second) 일까요?\n",
    "\n",
    "디지털 시계는 하루동안 다음과 같이 시:분(00:00~23:59)으로 표시됩니다.\n",
    "```\n",
    "00:00 (60초간 표시됨)\n",
    "00:01 \n",
    "00:02 \n",
    "...\n",
    "23:59\n",
    "```"
   ]
  },
  {
   "cell_type": "code",
   "execution_count": 16,
   "metadata": {},
   "outputs": [
    {
     "name": "stdout",
     "output_type": "stream",
     "text": [
      "29700\n"
     ]
    }
   ],
   "source": [
    "hour = 0\n",
    "minute = 0\n",
    "sec_count = 0\n",
    "\n",
    "while hour < 24:\n",
    "    minute = 0\n",
    "    \n",
    "    while minute < 60:\n",
    "        if '3' in str(hour):\n",
    "            sec_count += 3600\n",
    "            break\n",
    "            \n",
    "        elif '3' in str(minute):\n",
    "            sec_count += 60\n",
    "            \n",
    "        minute += 1\n",
    "        \n",
    "    hour += 1\n",
    "\n",
    "print(sec_count)"
   ]
  },
  {
   "cell_type": "markdown",
   "metadata": {},
   "source": [
    "### 복기 : 이런 조건이 있는 반복문의 경우에는 while문 보다 for문이 더 짧고 실용적이다!"
   ]
  },
  {
   "cell_type": "code",
   "execution_count": 17,
   "metadata": {},
   "outputs": [
    {
     "name": "stdout",
     "output_type": "stream",
     "text": [
      "29700\n"
     ]
    }
   ],
   "source": [
    "def clock(num):\n",
    "    sec = 0\n",
    "    for hour in range(24):\n",
    "        for minute in range(60):\n",
    "            if str(num) in str(hour) + str(minute): # 문자열로 변환한 시간에 해당 숫자가 들어있으면\n",
    "                sec += 60\n",
    "    return sec\n",
    "\n",
    "print(clock(3))"
   ]
  },
  {
   "cell_type": "markdown",
   "metadata": {},
   "source": [
    "---"
   ]
  },
  {
   "cell_type": "markdown",
   "metadata": {},
   "source": [
    "---"
   ]
  },
  {
   "cell_type": "markdown",
   "metadata": {},
   "source": [
    "#### - 메모리공간을 동적으로 사용하여 데이터 관리하기\n",
    "프로그램 실행 순서\n",
    "\n",
    "1. 입력할 정수의 개수를 사용자로부터 입력 받는다.\n",
    "2. 입력받은 정수의 개수만큼 정수를 입력받는다.\n",
    "3. 입력받은 정수의 합과 평균 값을 출력한다.\n",
    "4. 할당된 메모리공간을 비운다.\n",
    "\n",
    "요구사항\n",
    "\n",
    "1. 메모리공간은 사용자의 입력 수의 따라 변동된다.\n",
    "2. 사용한 공간은 마지막에 비워야 한다.\n",
    "3. 배열을 사용하면 안된다."
   ]
  },
  {
   "cell_type": "code",
   "execution_count": null,
   "metadata": {},
   "outputs": [],
   "source": []
  },
  {
   "cell_type": "markdown",
   "metadata": {},
   "source": [
    "---"
   ]
  },
  {
   "cell_type": "markdown",
   "metadata": {},
   "source": [
    "---"
   ]
  },
  {
   "cell_type": "markdown",
   "metadata": {},
   "source": [
    "### Duplicate Numbers\n",
    "0\\~9까지의 문자로 된 숫자를 입력 받았을 때, 이 입력 값이 0~9까지의 숫자가 각각 한 번 씩만 사용된 것인지 확인하는 함수를 구하시오.\n",
    "```\n",
    "sample inputs: 0123456789 01234 01234567890 6789012345 012322456789\n",
    "\n",
    "sample outputs: true false false true false\n",
    "```"
   ]
  },
  {
   "cell_type": "code",
   "execution_count": 27,
   "metadata": {},
   "outputs": [
    {
     "name": "stdout",
     "output_type": "stream",
     "text": [
      "숫자를 입력해주세요 : 4556\n",
      "false\n"
     ]
    }
   ],
   "source": [
    "num = input('숫자를 입력해주세요 : ')\n",
    "ans = [0, 1, 2, 3, 4, 5, 6, 7, 8, 9]\n",
    "trigger = 0\n",
    "\n",
    "num_list = list(num)\n",
    "\n",
    "for i in num_list:\n",
    "    try:\n",
    "        ans.remove(int(i))\n",
    "    except:\n",
    "        print('false')\n",
    "        trigger = 1\n",
    "        ans.append(10)\n",
    "\n",
    "if not ans:\n",
    "    print('true')\n",
    "elif ans and trigger == 0:\n",
    "    print('false')"
   ]
  },
  {
   "cell_type": "markdown",
   "metadata": {},
   "source": [
    "### 참신하다.."
   ]
  },
  {
   "cell_type": "code",
   "execution_count": 43,
   "metadata": {},
   "outputs": [
    {
     "name": "stdout",
     "output_type": "stream",
     "text": [
      "숫자 입력 : 9876543210\n",
      "['0', '1', '2', '3', '4', '5', '6', '7', '8', '9']\n",
      "0123456789\n",
      "true\n"
     ]
    }
   ],
   "source": [
    "x = list(input('숫자 입력 : '))\n",
    "x.sort()\n",
    "\n",
    "n = ''.join(x)\n",
    "\n",
    "print(\"true\" if n == \"0123456789\" else \"false\")"
   ]
  },
  {
   "cell_type": "code",
   "execution_count": 32,
   "metadata": {},
   "outputs": [
    {
     "name": "stdout",
     "output_type": "stream",
     "text": [
      "0~9 사이의 숫자로 이루어진 문자열 입력 : 456789320\n",
      "false\n"
     ]
    }
   ],
   "source": [
    "a = input(\"0~9 사이의 숫자로 이루어진 문자열 입력 : \")\n",
    "\n",
    "print('true' if len(a) == len(set(a)) == 10  else 'false')  \n",
    "# 중복된 값을 삭제한 것과 길이가 같으면서 그 길이가 10일 때 (0~9) True"
   ]
  },
  {
   "cell_type": "markdown",
   "metadata": {},
   "source": [
    "---"
   ]
  },
  {
   "cell_type": "markdown",
   "metadata": {},
   "source": [
    "---"
   ]
  },
  {
   "cell_type": "markdown",
   "metadata": {},
   "source": [
    "### Printing OXs\n",
    "이 문제의 핵심은 비트 연산을 얼마나 잘 이해하고 있냐이기 때문에 비트 연산으로 풀어주세요.\n",
    "\n",
    "input은 int n을 입력 받아 첫번째 row는 (n-1)의 O와 X, 두번째 row는 (n-2)의 O와 XX, 세번째 row는 (n-3)의 0와 XXX... n번째 row는 n의 X을 출력하시오.\n",
    "```\n",
    "입력 예시: 6\n",
    "\n",
    "출력 예시:\n",
    "OOOOOX\n",
    "OOOOXX\n",
    "OOOXXX\n",
    "OOXXXX\n",
    "OXXXXX\n",
    "XXXXXX\n",
    "```"
   ]
  },
  {
   "cell_type": "code",
   "execution_count": 7,
   "metadata": {},
   "outputs": [
    {
     "name": "stdout",
     "output_type": "stream",
     "text": [
      ">> 6\n",
      "12\n"
     ]
    }
   ],
   "source": [
    "print((lambda n: '\\n'.join('O'*(n-i) + 'X'*i for i in range(1,n+1)))(int(input('>>> '))))\n",
    "\n",
    "(lambda x: print(2*x))(int(input('>> ')))  \n",
    "# lambda 함수는 앞에 함수명을 적어줘야 하지만, 뒤에 값을 붙여주면 바로 값을 반환한다."
   ]
  },
  {
   "cell_type": "code",
   "execution_count": 12,
   "metadata": {},
   "outputs": [
    {
     "name": "stdout",
     "output_type": "stream",
     "text": [
      ">> 6\n",
      "12\n"
     ]
    }
   ],
   "source": [
    "twice = (lambda x: 2*x)(int(input('>> ')))\n",
    "print(twice)"
   ]
  },
  {
   "cell_type": "code",
   "execution_count": 14,
   "metadata": {},
   "outputs": [
    {
     "name": "stdout",
     "output_type": "stream",
     "text": [
      ">> 6\n",
      "12\n"
     ]
    }
   ],
   "source": [
    "twice = lambda x: 2*x\n",
    "\n",
    "num = twice(int(input('>> ')))\n",
    "print(num)"
   ]
  },
  {
   "cell_type": "markdown",
   "metadata": {},
   "source": [
    "---"
   ]
  },
  {
   "cell_type": "markdown",
   "metadata": {},
   "source": [
    "---"
   ]
  },
  {
   "cell_type": "markdown",
   "metadata": {},
   "source": []
  },
  {
   "cell_type": "code",
   "execution_count": null,
   "metadata": {},
   "outputs": [],
   "source": []
  },
  {
   "cell_type": "markdown",
   "metadata": {},
   "source": [
    "---"
   ]
  },
  {
   "cell_type": "markdown",
   "metadata": {},
   "source": [
    "---"
   ]
  },
  {
   "cell_type": "markdown",
   "metadata": {},
   "source": []
  },
  {
   "cell_type": "code",
   "execution_count": null,
   "metadata": {},
   "outputs": [],
   "source": []
  },
  {
   "cell_type": "markdown",
   "metadata": {},
   "source": [
    "---"
   ]
  },
  {
   "cell_type": "markdown",
   "metadata": {},
   "source": [
    "---"
   ]
  },
  {
   "cell_type": "markdown",
   "metadata": {},
   "source": [
    "## Lv.2"
   ]
  },
  {
   "cell_type": "markdown",
   "metadata": {},
   "source": []
  },
  {
   "cell_type": "code",
   "execution_count": null,
   "metadata": {},
   "outputs": [],
   "source": []
  },
  {
   "cell_type": "markdown",
   "metadata": {},
   "source": [
    "---"
   ]
  },
  {
   "cell_type": "markdown",
   "metadata": {},
   "source": [
    "---"
   ]
  },
  {
   "cell_type": "markdown",
   "metadata": {},
   "source": []
  },
  {
   "cell_type": "code",
   "execution_count": null,
   "metadata": {},
   "outputs": [],
   "source": []
  },
  {
   "cell_type": "markdown",
   "metadata": {},
   "source": [
    "---"
   ]
  },
  {
   "cell_type": "markdown",
   "metadata": {},
   "source": [
    "---"
   ]
  },
  {
   "cell_type": "markdown",
   "metadata": {},
   "source": []
  },
  {
   "cell_type": "code",
   "execution_count": null,
   "metadata": {},
   "outputs": [],
   "source": []
  },
  {
   "cell_type": "markdown",
   "metadata": {},
   "source": [
    "---"
   ]
  },
  {
   "cell_type": "markdown",
   "metadata": {},
   "source": [
    "---"
   ]
  },
  {
   "cell_type": "markdown",
   "metadata": {},
   "source": []
  },
  {
   "cell_type": "code",
   "execution_count": null,
   "metadata": {},
   "outputs": [],
   "source": []
  },
  {
   "cell_type": "markdown",
   "metadata": {},
   "source": [
    "---"
   ]
  },
  {
   "cell_type": "markdown",
   "metadata": {},
   "source": [
    "---"
   ]
  },
  {
   "cell_type": "markdown",
   "metadata": {},
   "source": []
  },
  {
   "cell_type": "code",
   "execution_count": null,
   "metadata": {},
   "outputs": [],
   "source": []
  },
  {
   "cell_type": "markdown",
   "metadata": {},
   "source": [
    "---"
   ]
  },
  {
   "cell_type": "markdown",
   "metadata": {},
   "source": [
    "---"
   ]
  },
  {
   "cell_type": "markdown",
   "metadata": {},
   "source": []
  },
  {
   "cell_type": "code",
   "execution_count": null,
   "metadata": {},
   "outputs": [],
   "source": []
  },
  {
   "cell_type": "markdown",
   "metadata": {},
   "source": [
    "---"
   ]
  },
  {
   "cell_type": "markdown",
   "metadata": {},
   "source": [
    "---"
   ]
  },
  {
   "cell_type": "markdown",
   "metadata": {},
   "source": []
  },
  {
   "cell_type": "code",
   "execution_count": null,
   "metadata": {},
   "outputs": [],
   "source": []
  },
  {
   "cell_type": "markdown",
   "metadata": {},
   "source": [
    "---"
   ]
  },
  {
   "cell_type": "markdown",
   "metadata": {},
   "source": [
    "---"
   ]
  },
  {
   "cell_type": "markdown",
   "metadata": {},
   "source": [
    "## Lv.3"
   ]
  },
  {
   "cell_type": "markdown",
   "metadata": {},
   "source": []
  },
  {
   "cell_type": "code",
   "execution_count": null,
   "metadata": {},
   "outputs": [],
   "source": []
  },
  {
   "cell_type": "markdown",
   "metadata": {},
   "source": [
    "---"
   ]
  },
  {
   "cell_type": "markdown",
   "metadata": {},
   "source": [
    "---"
   ]
  },
  {
   "cell_type": "markdown",
   "metadata": {},
   "source": []
  },
  {
   "cell_type": "code",
   "execution_count": null,
   "metadata": {},
   "outputs": [],
   "source": []
  },
  {
   "cell_type": "markdown",
   "metadata": {},
   "source": [
    "---"
   ]
  },
  {
   "cell_type": "markdown",
   "metadata": {},
   "source": [
    "---"
   ]
  },
  {
   "cell_type": "markdown",
   "metadata": {},
   "source": []
  },
  {
   "cell_type": "code",
   "execution_count": null,
   "metadata": {},
   "outputs": [],
   "source": []
  },
  {
   "cell_type": "markdown",
   "metadata": {},
   "source": [
    "---"
   ]
  },
  {
   "cell_type": "markdown",
   "metadata": {},
   "source": [
    "---"
   ]
  },
  {
   "cell_type": "markdown",
   "metadata": {},
   "source": []
  },
  {
   "cell_type": "code",
   "execution_count": null,
   "metadata": {},
   "outputs": [],
   "source": []
  },
  {
   "cell_type": "markdown",
   "metadata": {},
   "source": [
    "---"
   ]
  },
  {
   "cell_type": "markdown",
   "metadata": {},
   "source": [
    "---"
   ]
  },
  {
   "cell_type": "markdown",
   "metadata": {},
   "source": []
  },
  {
   "cell_type": "code",
   "execution_count": null,
   "metadata": {},
   "outputs": [],
   "source": []
  },
  {
   "cell_type": "markdown",
   "metadata": {},
   "source": [
    "---"
   ]
  },
  {
   "cell_type": "markdown",
   "metadata": {},
   "source": [
    "---"
   ]
  },
  {
   "cell_type": "markdown",
   "metadata": {},
   "source": [
    "## Lv.4"
   ]
  },
  {
   "cell_type": "markdown",
   "metadata": {},
   "source": []
  },
  {
   "cell_type": "code",
   "execution_count": null,
   "metadata": {},
   "outputs": [],
   "source": []
  },
  {
   "cell_type": "markdown",
   "metadata": {},
   "source": [
    "---"
   ]
  },
  {
   "cell_type": "markdown",
   "metadata": {},
   "source": [
    "---"
   ]
  },
  {
   "cell_type": "markdown",
   "metadata": {},
   "source": []
  },
  {
   "cell_type": "code",
   "execution_count": null,
   "metadata": {},
   "outputs": [],
   "source": []
  },
  {
   "cell_type": "markdown",
   "metadata": {},
   "source": [
    "---"
   ]
  },
  {
   "cell_type": "markdown",
   "metadata": {},
   "source": [
    "---"
   ]
  },
  {
   "cell_type": "markdown",
   "metadata": {},
   "source": []
  },
  {
   "cell_type": "code",
   "execution_count": null,
   "metadata": {},
   "outputs": [],
   "source": []
  },
  {
   "cell_type": "markdown",
   "metadata": {},
   "source": [
    "---"
   ]
  },
  {
   "cell_type": "markdown",
   "metadata": {},
   "source": [
    "---"
   ]
  },
  {
   "cell_type": "markdown",
   "metadata": {},
   "source": []
  },
  {
   "cell_type": "code",
   "execution_count": null,
   "metadata": {},
   "outputs": [],
   "source": []
  },
  {
   "cell_type": "markdown",
   "metadata": {},
   "source": [
    "---"
   ]
  },
  {
   "cell_type": "markdown",
   "metadata": {},
   "source": [
    "---"
   ]
  },
  {
   "cell_type": "markdown",
   "metadata": {},
   "source": []
  },
  {
   "cell_type": "code",
   "execution_count": null,
   "metadata": {},
   "outputs": [],
   "source": []
  },
  {
   "cell_type": "markdown",
   "metadata": {},
   "source": [
    "---"
   ]
  },
  {
   "cell_type": "markdown",
   "metadata": {},
   "source": [
    "---"
   ]
  },
  {
   "cell_type": "markdown",
   "metadata": {},
   "source": [
    "## Lv.5"
   ]
  },
  {
   "cell_type": "markdown",
   "metadata": {},
   "source": [
    "k-palindrome 은 문자열에서 최대 k개의 문자를 제거했을 때 palindrome이 되는 문자열을 말한다.\n",
    "\n",
    "문자열 S와 정수값 K가 주어질 때 주어진 문자열이 k-palindrome일 경우 \"YES\", 아닐경우에는 \"NO\"를 출력하시오. (단, S의 최대길이는 20,000, K의 범위는 0<=K<=30)\n",
    "```\n",
    "※ 팔린드롬(palindrome) - 바로 읽든 거꾸로 읽든 결과가 같아지는 단어, 문구, 숫자를 말한다. (예: 'eye', 'Madam', '아들딸들아')\n",
    "```\n",
    "샘플 예:\n",
    "```\n",
    "Input - abxa 1 \n",
    "Output - YES \n",
    "\n",
    "Input - abdxa 1 \n",
    "Output - No\n",
    "```"
   ]
  },
  {
   "cell_type": "code",
   "execution_count": 44,
   "metadata": {},
   "outputs": [
    {
     "name": "stdout",
     "output_type": "stream",
     "text": [
      "dcba\n",
      "True\n",
      "edcba\n",
      "True\n"
     ]
    }
   ],
   "source": [
    "### 어떤 문자열이 팔린드롬인지 판별하는 Part\n",
    "def reverse_str(string):\n",
    "    string = list(string)\n",
    "    string.reverse()\n",
    "    string = ''.join(string)\n",
    "    return string\n",
    "\n",
    "def palindrome(string):\n",
    "    leng = len(string)\n",
    "    if leng % 2 == 0:\n",
    "        reverse_value = reverse_str(string[:leng//2])\n",
    "        print(reverse_value)\n",
    "        return string[-leng//2:] == reverse_value\n",
    "    else:\n",
    "        reverse_value = reverse_str(string[:leng//2])\n",
    "        print(reverse_value)\n",
    "        return string[-leng//2+1:] == reverse_value\n",
    "    \n",
    "test_str1 = 'abcdedcba'\n",
    "test_str2 = 'abcdeedcba'\n",
    "\n",
    "print(palindrome(test_str1))\n",
    "print(palindrome(test_str2))\n",
    "\n",
    "### 어떤 문자열을 팔린드롬으로 만드는 케이스와 그 때의 문자 삭제 갯수를 출력하는 Part\n",
    "## S <= 20000, 0 <= K <= 30 인 조건을 무조건 만족하는 경우로 가정. (범위를 벗어나면 바로 폐기)\n",
    "## len(S) = 1000 이라면, 중간 지점의 범위는 최소 500-15 ~ 500+15 구간이어야 함.\n",
    "## len(S) = 245 라면, 122-15 ~ 122+15\n",
    "## 어떤 문자를 기준으로 양 옆으로 처음으로 중복되는 문자. 그 인덱스 차가 30을 넘으면 안됨.\n",
    "## 그 이후로부터 점점 영역을 확장해나간다.\n",
    "## K가 30을 넘지 않는 선에서, 리스트의 길이와 연관지어가며 어떤 인덱스 부터 이어나갈지 결정\n",
    "# ab(cx)df'e'f(ij)d(l)b(i)a"
   ]
  },
  {
   "cell_type": "markdown",
   "metadata": {},
   "source": [
    "---"
   ]
  },
  {
   "cell_type": "markdown",
   "metadata": {},
   "source": [
    "---"
   ]
  },
  {
   "cell_type": "markdown",
   "metadata": {},
   "source": []
  },
  {
   "cell_type": "code",
   "execution_count": null,
   "metadata": {},
   "outputs": [],
   "source": []
  },
  {
   "cell_type": "markdown",
   "metadata": {},
   "source": [
    "---"
   ]
  },
  {
   "cell_type": "markdown",
   "metadata": {},
   "source": [
    "---"
   ]
  }
 ],
 "metadata": {
  "kernelspec": {
   "display_name": "Python 3",
   "language": "python",
   "name": "python3"
  },
  "language_info": {
   "codemirror_mode": {
    "name": "ipython",
    "version": 3
   },
   "file_extension": ".py",
   "mimetype": "text/x-python",
   "name": "python",
   "nbconvert_exporter": "python",
   "pygments_lexer": "ipython3",
   "version": "3.8.5"
  }
 },
 "nbformat": 4,
 "nbformat_minor": 4
}
