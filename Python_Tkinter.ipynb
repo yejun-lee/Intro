{
 "cells": [
  {
   "cell_type": "code",
   "execution_count": 3,
   "metadata": {},
   "outputs": [],
   "source": [
    "from tkinter import *"
   ]
  },
  {
   "cell_type": "code",
   "execution_count": 8,
   "metadata": {},
   "outputs": [],
   "source": [
    "window = Tk()\n",
    "\n",
    "window.title('Test_1')\n",
    "window.geometry('640x400+100+100')      # 창이 생성되는 위치 : '너비 x 높이 x x좌표 x y좌표'\n",
    "window.resizable(False, False)          # 윈도우 창 크기 조절 가능 여부\n",
    "\n",
    "label = Label(window, text='안녕!')\n",
    "label.pack()\n",
    "\n",
    "window.mainloop()"
   ]
  },
  {
   "cell_type": "markdown",
   "metadata": {},
   "source": [
    "# < Label >"
   ]
  },
  {
   "cell_type": "markdown",
   "metadata": {},
   "source": [
    "### 라벨 문자열 설정\n",
    "text : 라벨에 표시할 문자열.\n",
    "\n",
    "textvariable : 라벨에 표시할 문자열을 가져올 변수.\n",
    "\n",
    "anchor : 라벨안의 문자열 또는 이미지의 위치.  ```기본값 : center```, ```속성 : n, ne, e, se, s, sw, w, nw, center```\n",
    "\n",
    "justify\t: 라벨의 문자열이 여러 줄 일 경우 정렬 방법.\t```기본값 : center```, ```속성 : center, left, right```\n",
    "\n",
    "wraplength : 자동 줄내림 설정 너비. ```기본값 : 0```, ```속성 : 상수```"
   ]
  },
  {
   "cell_type": "markdown",
   "metadata": {},
   "source": [
    "### 라벨 형태 설정\n",
    "width : 라벨의 너비. ```기본값 : 0```, ```속성 : 상수```\n",
    "\n",
    "height : 라벨의 높이. ```기본값 : 0```, ```속성 : 상수```\n",
    "\n",
    "relief : 라벨의 테두리 모양. ```기본값 : flat```, ```속성 : flat, groove, raised, ridge, solid, sunken```\n",
    "\n",
    "borderwidth=bd : 라벨의 테두리, 두께. ```기본값 : 2```, ```속성 : 상수```\n",
    "\n",
    "background=bg : 라벨의 배경 색상. ```기본값 : SystemButtonFace```, ```속성 : color```\n",
    "\n",
    "foreground=fg : 라벨의 문자열 색상. ```기본값 : SystemButtonFace```, ```속성 : color```\n",
    "\n",
    "padx : 라벨의 테두리와 내용의 가로 여백. ```기본값 : 1```, ```속성 : 상수```\n",
    "\n",
    "pady : 라벨의 테두리와 내용의 세로 여백. ```기본값 : 1```, ```속성 : 상수```"
   ]
  },
  {
   "cell_type": "code",
   "execution_count": 49,
   "metadata": {},
   "outputs": [],
   "source": [
    "window = Tk()\n",
    "window.title('Test_2')\n",
    "window.geometry('640x480+600+100')\n",
    "window.resizable(False, False)\n",
    "\n",
    "label = Label(window, text='파이썬', width=10, height=5, bg='yellow' , fg='red', relief='raised', \n",
    "             state='active', highlightcolor='light blue', highlightbackground='blue')\n",
    "label.grid(row=0, column=0, sticky=N)\n",
    "# label.pack()\n",
    "\n",
    "window.mainloop()"
   ]
  },
  {
   "cell_type": "markdown",
   "metadata": {},
   "source": [
    "### 라벨 형식 설정\n",
    "bitmap : 라벨에 포함할 기본 이미지. ```속성 : info, warning, error, question, questhead, hourglass, gray12, gray25, gray50, gray75```\n",
    "\n",
    "image : 라벨에 포함할 임의 이미지.\n",
    "\n",
    "compound : 라벨에 문자열과 이미지를 동시에 표시할 때 이미지의 위치. ```기본값 : none```, ```속성 : bottom, center, left, none, right, top```\n",
    "\n",
    "font : 라벨의 문자열 글꼴 설정. ```기본값 : TkDefaultFont```, ```속성 : font```\n",
    "\n",
    "cursor : 라벨의 마우스 커서 모양"
   ]
  },
  {
   "cell_type": "markdown",
   "metadata": {},
   "source": [
    "### 라벨 상태 설정\n",
    "state : 상태 설정. ```기본값 : normal```, ```속성 : normal, active, disabled```\n",
    "\n",
    "activebackground : active 상태일 때 라벨의 배경 색상. ```기본값 : SystemButtonFace```, ```속성 : color```\n",
    "\n",
    "activeforeground : active 상태일 때 라벨의 문자열 색상. ```기본값 : SystemButtonText```, ```속성 : color```\n",
    "\n",
    "disabledforeground : disabled 상태일 때 라벨의 문자열 색상. ```기본값 : SystemDisabledText```, ```속성 : color```"
   ]
  },
  {
   "cell_type": "markdown",
   "metadata": {},
   "source": [
    "### 라벨 하이라이트 설정\n",
    "highlightcolor : 라벨이 선택되었을 때 색상. ```기본값 : SystemWindowFrame```, ```속성 : color```\n",
    "\n",
    "highlightbackground\t: 라벨이 선택되지 않았을 때 색상. ```기본값 : SystemButtonFace```, ```속성 : color```\n",
    "\n",
    "highlightthickness : 라벨이 선택되었을 때 두께. ```기본값 : 0```, ```속성 : 상수```"
   ]
  },
  {
   "cell_type": "markdown",
   "metadata": {},
   "source": [
    "# < Button >"
   ]
  },
  {
   "cell_type": "markdown",
   "metadata": {},
   "source": [
    "relief : 버튼의 테두리 모양. ```기본값 : flat```, ```속성 : flat, groove, raised, ridge, solid, sunken```\n",
    "\n",
    "overrelief : 버튼에 마우스를 올렸을 때 버튼의 테두리 모양. ```기본값 : raised```, ```속성 : flat, groove, raised, ridge, solid, sunken```\n",
    "\n",
    "---\n",
    "\n",
    "highlightcolor : 버튼이 선택되었을 때 색상. ```기본값 : SystemWindowFrame```, ```속성 : color```\n",
    "\n",
    "highlightbackground\t: 버튼이 선택되지 않았을 때 색상. ```기본값 : SystemButtonFace```, ```속성 : color```\n",
    "\n",
    "highlightthickness : 버튼이 선택되었을 때 두께. ```기본값 : 0```, ```속성 : 상수```\n",
    "\n",
    "---\n",
    "\n",
    "takefocusTab : 키를 이용하여 위젯 이동 허용 여부. ```기본값 : True```, ```속성 : Boolean```\n",
    "\n",
    "command\t: 버튼이 active 상태일 때 실행하는 메소드(함수). ```속성 : 메소드, 함수```\n",
    "\n",
    "---\n",
    "\n",
    "repeatdelay\t: 버튼이 눌러진 상태에서 command 실행까지의 대기 시간. ```기본값 : 0```, ```속성 : 상수(ms)```\n",
    "\n",
    "repeatinterval : 버튼이 눌러진 상태에서 command 실행의 반복 시간. ```기본값 : 0```, ```속성 : 상수(ms)```"
   ]
  },
  {
   "cell_type": "code",
   "execution_count": 62,
   "metadata": {},
   "outputs": [],
   "source": [
    "window = Tk()\n",
    "window.title('Test_3')\n",
    "window.geometry('640x400+100+100')\n",
    "window.resizable(False, False)\n",
    "\n",
    "count = 0\n",
    "\n",
    "def countUP():\n",
    "    global count\n",
    "    count += 1\n",
    "    label.config(text=str(count))\n",
    "    \n",
    "label = Label(window, text='0')\n",
    "label.pack()\n",
    "\n",
    "button = Button(window, overrelief='solid', width=15, command=countUP,\n",
    "                repeatdelay=1000, repeatinterval=100, bg='blue', \n",
    "               highlightcolor = 'blue', highlightbackground = 'light blue', highlightthickness = '2')\n",
    "button.pack()\n",
    "\n",
    "window.mainloop()"
   ]
  },
  {
   "cell_type": "markdown",
   "metadata": {},
   "source": [
    "# < Entry >"
   ]
  },
  {
   "cell_type": "code",
   "execution_count": 76,
   "metadata": {},
   "outputs": [],
   "source": [
    "window = Tk()\n",
    "window.title('Test_4')\n",
    "window.geometry('640x480+100+100')\n",
    "window.resizable(False, False)\n",
    "\n",
    "def calc(event):\n",
    "    label.config(text='결과='+str(eval(entry.get())))   # 기입창의 텍스트를 문자열로 반환\n",
    "    \n",
    "entry = Entry(window, width=30, bg='light blue', font='oxygen')\n",
    "entry.bind('<Return>', calc)\n",
    "entry.insert(0, '입력창')\n",
    "entry.xview()\n",
    "entry.xview_scroll(1, 'units')\n",
    "entry.pack()\n",
    "\n",
    "label = Label(window)\n",
    "label.pack()\n",
    "\n",
    "window.mainloop()"
   ]
  },
  {
   "cell_type": "code",
   "execution_count": null,
   "metadata": {},
   "outputs": [],
   "source": []
  },
  {
   "cell_type": "code",
   "execution_count": null,
   "metadata": {},
   "outputs": [],
   "source": []
  },
  {
   "cell_type": "code",
   "execution_count": null,
   "metadata": {},
   "outputs": [],
   "source": []
  },
  {
   "cell_type": "code",
   "execution_count": null,
   "metadata": {},
   "outputs": [],
   "source": []
  },
  {
   "cell_type": "code",
   "execution_count": null,
   "metadata": {},
   "outputs": [],
   "source": []
  },
  {
   "cell_type": "code",
   "execution_count": null,
   "metadata": {},
   "outputs": [],
   "source": []
  },
  {
   "cell_type": "code",
   "execution_count": null,
   "metadata": {},
   "outputs": [],
   "source": []
  },
  {
   "cell_type": "code",
   "execution_count": null,
   "metadata": {},
   "outputs": [],
   "source": []
  },
  {
   "cell_type": "code",
   "execution_count": null,
   "metadata": {},
   "outputs": [],
   "source": []
  },
  {
   "cell_type": "code",
   "execution_count": null,
   "metadata": {},
   "outputs": [],
   "source": []
  },
  {
   "cell_type": "code",
   "execution_count": null,
   "metadata": {},
   "outputs": [],
   "source": []
  },
  {
   "cell_type": "code",
   "execution_count": null,
   "metadata": {},
   "outputs": [],
   "source": []
  },
  {
   "cell_type": "code",
   "execution_count": null,
   "metadata": {},
   "outputs": [],
   "source": []
  },
  {
   "cell_type": "code",
   "execution_count": null,
   "metadata": {},
   "outputs": [],
   "source": []
  },
  {
   "cell_type": "code",
   "execution_count": null,
   "metadata": {},
   "outputs": [],
   "source": []
  },
  {
   "cell_type": "code",
   "execution_count": null,
   "metadata": {},
   "outputs": [],
   "source": []
  }
 ],
 "metadata": {
  "kernelspec": {
   "display_name": "Python 3",
   "language": "python",
   "name": "python3"
  },
  "language_info": {
   "codemirror_mode": {
    "name": "ipython",
    "version": 3
   },
   "file_extension": ".py",
   "mimetype": "text/x-python",
   "name": "python",
   "nbconvert_exporter": "python",
   "pygments_lexer": "ipython3",
   "version": "3.8.5"
  }
 },
 "nbformat": 4,
 "nbformat_minor": 4
}
